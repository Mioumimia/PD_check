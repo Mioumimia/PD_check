{
 "cells": [
  {
   "cell_type": "markdown",
   "metadata": {},
   "source": [
    "## Формулировка задачи"
   ]
  },
  {
   "cell_type": "markdown",
   "metadata": {},
   "source": [
    "Есть 2 выборки: <b>Train («Обучающая»)</b> и <b>Test («Тестовая»)</b> с 6-ю признаками и есть целевая переменная с ответами 0 или 1: \n",
    "\n",
    "- 0 – не вышел в просроченную задолженность («Хороший»)\n",
    "- 1 – вышел в просроченную задолженность («Плохой»)\n",
    "\n",
    "На выборке Train вы обучаете модель. В этой выборке известно кто вышел в просроченную задолженность, а кто нет.\n",
    "На выборке Test вы уже, исходя из своей модели, предсказываете вероятность выхода в просроченную задолженность. Соответственно, это будут вещественные числа в интервале [0;1].\n",
    "Вам нужно построить модель, которая говорит - с какой вероятностью каждый клиент вышел в просроченную задолженность.\n",
    "Если моделей будет несколько – можете прислать несколько.\n"
   ]
  },
  {
   "cell_type": "code",
   "execution_count": 294,
   "metadata": {},
   "outputs": [],
   "source": [
    "import pandas as pd\n",
    "import numpy as np\n",
    "from sklearn.model_selection import train_test_split\n",
    "import seaborn as sns\n",
    "import matplotlib.pyplot as plt\n",
    "\n",
    "from sklearn import svm\n",
    "from sklearn.linear_model import LogisticRegression, LogisticRegressionCV\n",
    "from sklearn.decomposition import PCA\n",
    "from sklearn.metrics import roc_curve, auc, accuracy_score, precision_recall_curve, plot_precision_recall_curve, roc_auc_score\n",
    "from sklearn.preprocessing import MinMaxScaler\n",
    "from sklearn.model_selection import GridSearchCV, KFold, StratifiedKFold\n",
    "from sklearn.ensemble import RandomForestClassifier\n",
    "import lightgbm as lgb\n",
    "import gc\n",
    "from sklearn.preprocessing import PolynomialFeatures\n",
    "\n",
    "plt.rcParams['figure.figsize'] = (17, 5)"
   ]
  },
  {
   "cell_type": "markdown",
   "metadata": {},
   "source": [
    "## Первичный анализ"
   ]
  },
  {
   "cell_type": "markdown",
   "metadata": {},
   "source": [
    "Для начала посмотрим на данные. Столбцы с номером и ролью записи не несут никакой информации для анализа - удаляем. Посмотрим на количество неполных записией (содержащих Null значения), количество вещественных и категориальных признаков. "
   ]
  },
  {
   "cell_type": "code",
   "execution_count": 295,
   "metadata": {},
   "outputs": [],
   "source": [
    "train_df= pd.read_excel('Вариант 1.xlsx', sheet_name = 'обучающая')\n",
    "test_df= pd.read_excel('Вариант 1.xlsx', sheet_name = 'тестовая')\n",
    "train_df = train_df.drop(labels = ['№', 'Role'], axis = 1)\n",
    "test_df = test_df.drop(labels = ['№', 'Role', 'Target'], axis = 1)"
   ]
  },
  {
   "cell_type": "code",
   "execution_count": 296,
   "metadata": {},
   "outputs": [
    {
     "data": {
      "text/html": [
       "<div>\n",
       "<style scoped>\n",
       "    .dataframe tbody tr th:only-of-type {\n",
       "        vertical-align: middle;\n",
       "    }\n",
       "\n",
       "    .dataframe tbody tr th {\n",
       "        vertical-align: top;\n",
       "    }\n",
       "\n",
       "    .dataframe thead th {\n",
       "        text-align: right;\n",
       "    }\n",
       "</style>\n",
       "<table border=\"1\" class=\"dataframe\">\n",
       "  <thead>\n",
       "    <tr style=\"text-align: right;\">\n",
       "      <th></th>\n",
       "      <th>Пол</th>\n",
       "      <th>Возраст</th>\n",
       "      <th>Образование</th>\n",
       "      <th>Стаж работы</th>\n",
       "      <th>Семейное положение</th>\n",
       "      <th>Количество детей</th>\n",
       "      <th>Target</th>\n",
       "    </tr>\n",
       "  </thead>\n",
       "  <tbody>\n",
       "    <tr>\n",
       "      <th>0</th>\n",
       "      <td>мужской</td>\n",
       "      <td>1</td>\n",
       "      <td>средне-специальное</td>\n",
       "      <td>26</td>\n",
       "      <td>разведен / разведена</td>\n",
       "      <td>0</td>\n",
       "      <td>0</td>\n",
       "    </tr>\n",
       "    <tr>\n",
       "      <th>1</th>\n",
       "      <td>NaN</td>\n",
       "      <td>28</td>\n",
       "      <td>средне-специальное</td>\n",
       "      <td>2</td>\n",
       "      <td>не женат / не замужем</td>\n",
       "      <td>0</td>\n",
       "      <td>0</td>\n",
       "    </tr>\n",
       "    <tr>\n",
       "      <th>2</th>\n",
       "      <td>женский</td>\n",
       "      <td>25</td>\n",
       "      <td>высшее</td>\n",
       "      <td>7</td>\n",
       "      <td>не женат / не замужем</td>\n",
       "      <td>3</td>\n",
       "      <td>0</td>\n",
       "    </tr>\n",
       "    <tr>\n",
       "      <th>3</th>\n",
       "      <td>мужской</td>\n",
       "      <td>1000</td>\n",
       "      <td>средне-специальное</td>\n",
       "      <td>2</td>\n",
       "      <td>не женат / не замужем</td>\n",
       "      <td>1</td>\n",
       "      <td>0</td>\n",
       "    </tr>\n",
       "    <tr>\n",
       "      <th>4</th>\n",
       "      <td>мужской</td>\n",
       "      <td>52</td>\n",
       "      <td>средне-специальное</td>\n",
       "      <td>4</td>\n",
       "      <td>NaN</td>\n",
       "      <td>1</td>\n",
       "      <td>0</td>\n",
       "    </tr>\n",
       "  </tbody>\n",
       "</table>\n",
       "</div>"
      ],
      "text/plain": [
       "       Пол  Возраст         Образование  Стаж работы     Семейное положение  \\\n",
       "0  мужской        1  средне-специальное           26   разведен / разведена   \n",
       "1      NaN       28  средне-специальное            2  не женат / не замужем   \n",
       "2  женский       25              высшее            7  не женат / не замужем   \n",
       "3  мужской     1000  средне-специальное            2  не женат / не замужем   \n",
       "4  мужской       52  средне-специальное            4                    NaN   \n",
       "\n",
       "   Количество детей  Target  \n",
       "0                 0       0  \n",
       "1                 0       0  \n",
       "2                 3       0  \n",
       "3                 1       0  \n",
       "4                 1       0  "
      ]
     },
     "metadata": {},
     "output_type": "display_data"
    },
    {
     "data": {
      "text/html": [
       "<div>\n",
       "<style scoped>\n",
       "    .dataframe tbody tr th:only-of-type {\n",
       "        vertical-align: middle;\n",
       "    }\n",
       "\n",
       "    .dataframe tbody tr th {\n",
       "        vertical-align: top;\n",
       "    }\n",
       "\n",
       "    .dataframe thead th {\n",
       "        text-align: right;\n",
       "    }\n",
       "</style>\n",
       "<table border=\"1\" class=\"dataframe\">\n",
       "  <thead>\n",
       "    <tr style=\"text-align: right;\">\n",
       "      <th></th>\n",
       "      <th>Пол</th>\n",
       "      <th>Возраст</th>\n",
       "      <th>Образование</th>\n",
       "      <th>Стаж работы</th>\n",
       "      <th>Семейное положение</th>\n",
       "      <th>Количество детей</th>\n",
       "    </tr>\n",
       "  </thead>\n",
       "  <tbody>\n",
       "    <tr>\n",
       "      <th>0</th>\n",
       "      <td>женский</td>\n",
       "      <td>25</td>\n",
       "      <td>средне-специальное</td>\n",
       "      <td>7</td>\n",
       "      <td>не женат / не замужем</td>\n",
       "      <td>0</td>\n",
       "    </tr>\n",
       "    <tr>\n",
       "      <th>1</th>\n",
       "      <td>женский</td>\n",
       "      <td>34</td>\n",
       "      <td>среднее</td>\n",
       "      <td>5</td>\n",
       "      <td>не женат / не замужем</td>\n",
       "      <td>2</td>\n",
       "    </tr>\n",
       "    <tr>\n",
       "      <th>2</th>\n",
       "      <td>мужской</td>\n",
       "      <td>18</td>\n",
       "      <td>высшее</td>\n",
       "      <td>0</td>\n",
       "      <td>разведен / разведена</td>\n",
       "      <td>0</td>\n",
       "    </tr>\n",
       "    <tr>\n",
       "      <th>3</th>\n",
       "      <td>женский</td>\n",
       "      <td>20</td>\n",
       "      <td>средне-специальное</td>\n",
       "      <td>2</td>\n",
       "      <td>не женат / не замужем</td>\n",
       "      <td>2</td>\n",
       "    </tr>\n",
       "    <tr>\n",
       "      <th>4</th>\n",
       "      <td>мужской</td>\n",
       "      <td>20</td>\n",
       "      <td>высшее</td>\n",
       "      <td>2</td>\n",
       "      <td>повторный брак</td>\n",
       "      <td>0</td>\n",
       "    </tr>\n",
       "  </tbody>\n",
       "</table>\n",
       "</div>"
      ],
      "text/plain": [
       "       Пол  Возраст         Образование  Стаж работы     Семейное положение  \\\n",
       "0  женский       25  средне-специальное            7  не женат / не замужем   \n",
       "1  женский       34             среднее            5  не женат / не замужем   \n",
       "2  мужской       18              высшее            0   разведен / разведена   \n",
       "3  женский       20  средне-специальное            2  не женат / не замужем   \n",
       "4  мужской       20              высшее            2         повторный брак   \n",
       "\n",
       "   Количество детей  \n",
       "0                 0  \n",
       "1                 2  \n",
       "2                 0  \n",
       "3                 2  \n",
       "4                 0  "
      ]
     },
     "metadata": {},
     "output_type": "display_data"
    }
   ],
   "source": [
    "display(train_df.head(), test_df.head())"
   ]
  },
  {
   "cell_type": "code",
   "execution_count": 297,
   "metadata": {},
   "outputs": [
    {
     "name": "stdout",
     "output_type": "stream",
     "text": [
      "<class 'pandas.core.frame.DataFrame'>\n",
      "RangeIndex: 4500 entries, 0 to 4499\n",
      "Data columns (total 7 columns):\n",
      " #   Column              Non-Null Count  Dtype \n",
      "---  ------              --------------  ----- \n",
      " 0   Пол                 4487 non-null   object\n",
      " 1   Возраст             4500 non-null   int64 \n",
      " 2   Образование         4500 non-null   object\n",
      " 3   Стаж работы         4500 non-null   int64 \n",
      " 4   Семейное положение  4486 non-null   object\n",
      " 5   Количество детей    4500 non-null   int64 \n",
      " 6   Target              4500 non-null   int64 \n",
      "dtypes: int64(4), object(3)\n",
      "memory usage: 246.2+ KB\n"
     ]
    }
   ],
   "source": [
    "train_df.info()"
   ]
  },
  {
   "cell_type": "code",
   "execution_count": 298,
   "metadata": {},
   "outputs": [
    {
     "name": "stdout",
     "output_type": "stream",
     "text": [
      "<class 'pandas.core.frame.DataFrame'>\n",
      "RangeIndex: 1500 entries, 0 to 1499\n",
      "Data columns (total 6 columns):\n",
      " #   Column              Non-Null Count  Dtype \n",
      "---  ------              --------------  ----- \n",
      " 0   Пол                 1500 non-null   object\n",
      " 1   Возраст             1500 non-null   int64 \n",
      " 2   Образование         1500 non-null   object\n",
      " 3   Стаж работы         1500 non-null   int64 \n",
      " 4   Семейное положение  1500 non-null   object\n",
      " 5   Количество детей    1500 non-null   int64 \n",
      "dtypes: int64(3), object(3)\n",
      "memory usage: 70.4+ KB\n"
     ]
    }
   ],
   "source": [
    "test_df.info()"
   ]
  },
  {
   "cell_type": "code",
   "execution_count": 299,
   "metadata": {},
   "outputs": [
    {
     "name": "stdout",
     "output_type": "stream",
     "text": [
      "Гистограмы для обучающей выборки\n"
     ]
    },
    {
     "data": {
      "image/png": "[encoded data removed]",
      "text/plain": [
       "<Figure size 1224x360 with 4 Axes>"
      ]
     },
     "metadata": {
      "needs_background": "light"
     },
     "output_type": "display_data"
    }
   ],
   "source": [
    "print('Гистограмы для обучающей выборки')\n",
    "train_hist = train_df.hist()"
   ]
  },
  {
   "cell_type": "code",
   "execution_count": 300,
   "metadata": {},
   "outputs": [
    {
     "name": "stdout",
     "output_type": "stream",
     "text": [
      "Гистограмы для тестовой выборки\n"
     ]
    },
    {
     "data": {
      "image/png": "[encoded data removed]",
      "text/plain": [
       "<Figure size 1224x360 with 4 Axes>"
      ]
     },
     "metadata": {
      "needs_background": "light"
     },
     "output_type": "display_data"
    }
   ],
   "source": [
    "print('Гистограмы для тестовой выборки')\n",
    "test_hist = test_df.hist()"
   ]
  },
  {
   "cell_type": "code",
   "execution_count": 301,
   "metadata": {},
   "outputs": [
    {
     "name": "stdout",
     "output_type": "stream",
     "text": [
      "---Образование: \n",
      "высшее                2096\n",
      "средне-специальное    1450\n",
      "среднее                714\n",
      "несколько высших       240\n",
      "Name: Образование, dtype: int64\n",
      "\n",
      "---Семейное положение:\n",
      "не женат / не замужем    1801\n",
      "разведен / разведена     1380\n",
      "повторный брак            864\n",
      "женат / замужем           441\n",
      "Name: Семейное положение, dtype: int64\n",
      "\n",
      "---Пол:\n",
      "мужской    2697\n",
      "женский    1790\n",
      "Name: Пол, dtype: int64\n",
      "\n",
      "---Дефолт:\n",
      "0    4144\n",
      "1     356\n",
      "Name: Target, dtype: int64\n"
     ]
    },
    {
     "data": {
      "text/html": [
       "<div>\n",
       "<style scoped>\n",
       "    .dataframe tbody tr th:only-of-type {\n",
       "        vertical-align: middle;\n",
       "    }\n",
       "\n",
       "    .dataframe tbody tr th {\n",
       "        vertical-align: top;\n",
       "    }\n",
       "\n",
       "    .dataframe thead th {\n",
       "        text-align: right;\n",
       "    }\n",
       "</style>\n",
       "<table border=\"1\" class=\"dataframe\">\n",
       "  <thead>\n",
       "    <tr style=\"text-align: right;\">\n",
       "      <th></th>\n",
       "      <th>Возраст</th>\n",
       "      <th>Стаж работы</th>\n",
       "      <th>Количество детей</th>\n",
       "      <th>Target</th>\n",
       "    </tr>\n",
       "  </thead>\n",
       "  <tbody>\n",
       "    <tr>\n",
       "      <th>count</th>\n",
       "      <td>4500.000000</td>\n",
       "      <td>4500.000000</td>\n",
       "      <td>4500.000000</td>\n",
       "      <td>4500.000000</td>\n",
       "    </tr>\n",
       "    <tr>\n",
       "      <th>mean</th>\n",
       "      <td>35.459111</td>\n",
       "      <td>9.457333</td>\n",
       "      <td>1.647556</td>\n",
       "      <td>0.079111</td>\n",
       "    </tr>\n",
       "    <tr>\n",
       "      <th>std</th>\n",
       "      <td>19.763333</td>\n",
       "      <td>9.038025</td>\n",
       "      <td>1.651784</td>\n",
       "      <td>0.269942</td>\n",
       "    </tr>\n",
       "    <tr>\n",
       "      <th>min</th>\n",
       "      <td>1.000000</td>\n",
       "      <td>0.000000</td>\n",
       "      <td>0.000000</td>\n",
       "      <td>0.000000</td>\n",
       "    </tr>\n",
       "    <tr>\n",
       "      <th>25%</th>\n",
       "      <td>23.000000</td>\n",
       "      <td>2.000000</td>\n",
       "      <td>0.000000</td>\n",
       "      <td>0.000000</td>\n",
       "    </tr>\n",
       "    <tr>\n",
       "      <th>50%</th>\n",
       "      <td>32.000000</td>\n",
       "      <td>7.000000</td>\n",
       "      <td>1.000000</td>\n",
       "      <td>0.000000</td>\n",
       "    </tr>\n",
       "    <tr>\n",
       "      <th>75%</th>\n",
       "      <td>45.000000</td>\n",
       "      <td>14.000000</td>\n",
       "      <td>2.000000</td>\n",
       "      <td>0.000000</td>\n",
       "    </tr>\n",
       "    <tr>\n",
       "      <th>max</th>\n",
       "      <td>1000.000000</td>\n",
       "      <td>46.000000</td>\n",
       "      <td>7.000000</td>\n",
       "      <td>1.000000</td>\n",
       "    </tr>\n",
       "  </tbody>\n",
       "</table>\n",
       "</div>"
      ],
      "text/plain": [
       "           Возраст  Стаж работы  Количество детей       Target\n",
       "count  4500.000000  4500.000000       4500.000000  4500.000000\n",
       "mean     35.459111     9.457333          1.647556     0.079111\n",
       "std      19.763333     9.038025          1.651784     0.269942\n",
       "min       1.000000     0.000000          0.000000     0.000000\n",
       "25%      23.000000     2.000000          0.000000     0.000000\n",
       "50%      32.000000     7.000000          1.000000     0.000000\n",
       "75%      45.000000    14.000000          2.000000     0.000000\n",
       "max    1000.000000    46.000000          7.000000     1.000000"
      ]
     },
     "metadata": {},
     "output_type": "display_data"
    }
   ],
   "source": [
    "print('---Образование: ')\n",
    "print(train_df['Образование'].value_counts())\n",
    "print('\\n---Семейное положение:')\n",
    "print(train_df['Семейное положение'].value_counts())\n",
    "print('\\n---Пол:')\n",
    "print(train_df['Пол'].value_counts())\n",
    "print('\\n---Дефолт:')\n",
    "print(train_df['Target'].value_counts())\n",
    "display(train_df.describe())"
   ]
  },
  {
   "cell_type": "code",
   "execution_count": 302,
   "metadata": {},
   "outputs": [
    {
     "name": "stdout",
     "output_type": "stream",
     "text": [
      "---Образование: \n",
      "высшее                683\n",
      "средне-специальное    520\n",
      "среднее               213\n",
      "несколько высших       84\n",
      "Name: Образование, dtype: int64\n",
      "\n",
      "---Семейное положение:\n",
      "не женат / не замужем    618\n",
      "разведен / разведена     428\n",
      "повторный брак           302\n",
      "женат / замужем          152\n",
      "Name: Семейное положение, dtype: int64\n",
      "\n",
      "---Пол:\n",
      "мужской    895\n",
      "женский    605\n",
      "Name: Пол, dtype: int64\n"
     ]
    },
    {
     "data": {
      "text/html": [
       "<div>\n",
       "<style scoped>\n",
       "    .dataframe tbody tr th:only-of-type {\n",
       "        vertical-align: middle;\n",
       "    }\n",
       "\n",
       "    .dataframe tbody tr th {\n",
       "        vertical-align: top;\n",
       "    }\n",
       "\n",
       "    .dataframe thead th {\n",
       "        text-align: right;\n",
       "    }\n",
       "</style>\n",
       "<table border=\"1\" class=\"dataframe\">\n",
       "  <thead>\n",
       "    <tr style=\"text-align: right;\">\n",
       "      <th></th>\n",
       "      <th>Возраст</th>\n",
       "      <th>Стаж работы</th>\n",
       "      <th>Количество детей</th>\n",
       "    </tr>\n",
       "  </thead>\n",
       "  <tbody>\n",
       "    <tr>\n",
       "      <th>count</th>\n",
       "      <td>1500.000000</td>\n",
       "      <td>1500.000000</td>\n",
       "      <td>1500.000000</td>\n",
       "    </tr>\n",
       "    <tr>\n",
       "      <th>mean</th>\n",
       "      <td>35.520000</td>\n",
       "      <td>9.538000</td>\n",
       "      <td>1.660000</td>\n",
       "    </tr>\n",
       "    <tr>\n",
       "      <th>std</th>\n",
       "      <td>13.659502</td>\n",
       "      <td>9.421734</td>\n",
       "      <td>1.709488</td>\n",
       "    </tr>\n",
       "    <tr>\n",
       "      <th>min</th>\n",
       "      <td>18.000000</td>\n",
       "      <td>0.000000</td>\n",
       "      <td>0.000000</td>\n",
       "    </tr>\n",
       "    <tr>\n",
       "      <th>25%</th>\n",
       "      <td>23.000000</td>\n",
       "      <td>2.000000</td>\n",
       "      <td>0.000000</td>\n",
       "    </tr>\n",
       "    <tr>\n",
       "      <th>50%</th>\n",
       "      <td>33.000000</td>\n",
       "      <td>7.000000</td>\n",
       "      <td>1.000000</td>\n",
       "    </tr>\n",
       "    <tr>\n",
       "      <th>75%</th>\n",
       "      <td>45.500000</td>\n",
       "      <td>14.000000</td>\n",
       "      <td>3.000000</td>\n",
       "    </tr>\n",
       "    <tr>\n",
       "      <th>max</th>\n",
       "      <td>64.000000</td>\n",
       "      <td>45.000000</td>\n",
       "      <td>7.000000</td>\n",
       "    </tr>\n",
       "  </tbody>\n",
       "</table>\n",
       "</div>"
      ],
      "text/plain": [
       "           Возраст  Стаж работы  Количество детей\n",
       "count  1500.000000  1500.000000       1500.000000\n",
       "mean     35.520000     9.538000          1.660000\n",
       "std      13.659502     9.421734          1.709488\n",
       "min      18.000000     0.000000          0.000000\n",
       "25%      23.000000     2.000000          0.000000\n",
       "50%      33.000000     7.000000          1.000000\n",
       "75%      45.500000    14.000000          3.000000\n",
       "max      64.000000    45.000000          7.000000"
      ]
     },
     "metadata": {},
     "output_type": "display_data"
    }
   ],
   "source": [
    "print('---Образование: ')\n",
    "print(test_df['Образование'].value_counts())\n",
    "print('\\n---Семейное положение:')\n",
    "print(test_df['Семейное положение'].value_counts())\n",
    "print('\\n---Пол:')\n",
    "print(test_df['Пол'].value_counts())\n",
    "display(test_df.describe())"
   ]
  },
  {
   "cell_type": "markdown",
   "metadata": {},
   "source": [
    "Что можно уже отметить из данных результатов:\n",
    "\n",
    "- Гистограма поля <b>Target</b> говорит о том, что искомые классы несбалансированы (отношение тех, кто ушел в дефолт, к тем, кто выплатил кредит меньше 10%) , что важно учитывать при классификации. \n",
    "- В графе <b>Возраст</b> максимумом является '1000 лет', что говорит о наличии аномалий. В тестовой выборке таких выбросов нет. Минимальный возраст в '1 год' тоже вызывает сомнения,  с учетом требований на выдачу кредита.\n",
    "- Есть несколько <b>Null</b> значений в графе <b>Пол</b>"
   ]
  },
  {
   "cell_type": "code",
   "execution_count": 303,
   "metadata": {},
   "outputs": [
    {
     "data": {
      "text/html": [
       "<div>\n",
       "<style scoped>\n",
       "    .dataframe tbody tr th:only-of-type {\n",
       "        vertical-align: middle;\n",
       "    }\n",
       "\n",
       "    .dataframe tbody tr th {\n",
       "        vertical-align: top;\n",
       "    }\n",
       "\n",
       "    .dataframe thead th {\n",
       "        text-align: right;\n",
       "    }\n",
       "</style>\n",
       "<table border=\"1\" class=\"dataframe\">\n",
       "  <thead>\n",
       "    <tr style=\"text-align: right;\">\n",
       "      <th></th>\n",
       "      <th>Пол</th>\n",
       "      <th>Возраст</th>\n",
       "      <th>Образование</th>\n",
       "      <th>Стаж работы</th>\n",
       "      <th>Семейное положение</th>\n",
       "      <th>Количество детей</th>\n",
       "      <th>Target</th>\n",
       "    </tr>\n",
       "  </thead>\n",
       "  <tbody>\n",
       "    <tr>\n",
       "      <th>3</th>\n",
       "      <td>мужской</td>\n",
       "      <td>1000</td>\n",
       "      <td>средне-специальное</td>\n",
       "      <td>2</td>\n",
       "      <td>не женат / не замужем</td>\n",
       "      <td>1</td>\n",
       "      <td>0</td>\n",
       "    </tr>\n",
       "    <tr>\n",
       "      <th>327</th>\n",
       "      <td>мужской</td>\n",
       "      <td>100</td>\n",
       "      <td>высшее</td>\n",
       "      <td>9</td>\n",
       "      <td>женат / замужем</td>\n",
       "      <td>3</td>\n",
       "      <td>0</td>\n",
       "    </tr>\n",
       "    <tr>\n",
       "      <th>877</th>\n",
       "      <td>мужской</td>\n",
       "      <td>98</td>\n",
       "      <td>средне-специальное</td>\n",
       "      <td>1</td>\n",
       "      <td>не женат / не замужем</td>\n",
       "      <td>2</td>\n",
       "      <td>0</td>\n",
       "    </tr>\n",
       "    <tr>\n",
       "      <th>1677</th>\n",
       "      <td>мужской</td>\n",
       "      <td>79</td>\n",
       "      <td>средне-специальное</td>\n",
       "      <td>34</td>\n",
       "      <td>не женат / не замужем</td>\n",
       "      <td>1</td>\n",
       "      <td>0</td>\n",
       "    </tr>\n",
       "    <tr>\n",
       "      <th>2377</th>\n",
       "      <td>мужской</td>\n",
       "      <td>89</td>\n",
       "      <td>средне-специальное</td>\n",
       "      <td>4</td>\n",
       "      <td>женат / замужем</td>\n",
       "      <td>0</td>\n",
       "      <td>0</td>\n",
       "    </tr>\n",
       "    <tr>\n",
       "      <th>3202</th>\n",
       "      <td>мужской</td>\n",
       "      <td>124</td>\n",
       "      <td>средне-специальное</td>\n",
       "      <td>18</td>\n",
       "      <td>повторный брак</td>\n",
       "      <td>3</td>\n",
       "      <td>0</td>\n",
       "    </tr>\n",
       "    <tr>\n",
       "      <th>3802</th>\n",
       "      <td>мужской</td>\n",
       "      <td>99</td>\n",
       "      <td>высшее</td>\n",
       "      <td>5</td>\n",
       "      <td>не женат / не замужем</td>\n",
       "      <td>3</td>\n",
       "      <td>0</td>\n",
       "    </tr>\n",
       "  </tbody>\n",
       "</table>\n",
       "</div>"
      ],
      "text/plain": [
       "          Пол  Возраст         Образование  Стаж работы  \\\n",
       "3     мужской     1000  средне-специальное            2   \n",
       "327   мужской      100              высшее            9   \n",
       "877   мужской       98  средне-специальное            1   \n",
       "1677  мужской       79  средне-специальное           34   \n",
       "2377  мужской       89  средне-специальное            4   \n",
       "3202  мужской      124  средне-специальное           18   \n",
       "3802  мужской       99              высшее            5   \n",
       "\n",
       "         Семейное положение  Количество детей  Target  \n",
       "3     не женат / не замужем                 1       0  \n",
       "327         женат / замужем                 3       0  \n",
       "877   не женат / не замужем                 2       0  \n",
       "1677  не женат / не замужем                 1       0  \n",
       "2377        женат / замужем                 0       0  \n",
       "3202         повторный брак                 3       0  \n",
       "3802  не женат / не замужем                 3       0  "
      ]
     },
     "metadata": {},
     "output_type": "display_data"
    },
    {
     "data": {
      "text/html": [
       "<div>\n",
       "<style scoped>\n",
       "    .dataframe tbody tr th:only-of-type {\n",
       "        vertical-align: middle;\n",
       "    }\n",
       "\n",
       "    .dataframe tbody tr th {\n",
       "        vertical-align: top;\n",
       "    }\n",
       "\n",
       "    .dataframe thead th {\n",
       "        text-align: right;\n",
       "    }\n",
       "</style>\n",
       "<table border=\"1\" class=\"dataframe\">\n",
       "  <thead>\n",
       "    <tr style=\"text-align: right;\">\n",
       "      <th></th>\n",
       "      <th>Пол</th>\n",
       "      <th>Возраст</th>\n",
       "      <th>Образование</th>\n",
       "      <th>Стаж работы</th>\n",
       "      <th>Семейное положение</th>\n",
       "      <th>Количество детей</th>\n",
       "      <th>Target</th>\n",
       "    </tr>\n",
       "  </thead>\n",
       "  <tbody>\n",
       "    <tr>\n",
       "      <th>0</th>\n",
       "      <td>мужской</td>\n",
       "      <td>1</td>\n",
       "      <td>средне-специальное</td>\n",
       "      <td>26</td>\n",
       "      <td>разведен / разведена</td>\n",
       "      <td>0</td>\n",
       "      <td>0</td>\n",
       "    </tr>\n",
       "    <tr>\n",
       "      <th>200</th>\n",
       "      <td>женский</td>\n",
       "      <td>6</td>\n",
       "      <td>высшее</td>\n",
       "      <td>1</td>\n",
       "      <td>разведен / разведена</td>\n",
       "      <td>2</td>\n",
       "      <td>0</td>\n",
       "    </tr>\n",
       "    <tr>\n",
       "      <th>950</th>\n",
       "      <td>мужской</td>\n",
       "      <td>17</td>\n",
       "      <td>средне-специальное</td>\n",
       "      <td>9</td>\n",
       "      <td>разведен / разведена</td>\n",
       "      <td>3</td>\n",
       "      <td>0</td>\n",
       "    </tr>\n",
       "    <tr>\n",
       "      <th>1600</th>\n",
       "      <td>мужской</td>\n",
       "      <td>15</td>\n",
       "      <td>средне-специальное</td>\n",
       "      <td>3</td>\n",
       "      <td>разведен / разведена</td>\n",
       "      <td>1</td>\n",
       "      <td>0</td>\n",
       "    </tr>\n",
       "    <tr>\n",
       "      <th>2375</th>\n",
       "      <td>мужской</td>\n",
       "      <td>6</td>\n",
       "      <td>высшее</td>\n",
       "      <td>12</td>\n",
       "      <td>разведен / разведена</td>\n",
       "      <td>0</td>\n",
       "      <td>0</td>\n",
       "    </tr>\n",
       "    <tr>\n",
       "      <th>3250</th>\n",
       "      <td>мужской</td>\n",
       "      <td>8</td>\n",
       "      <td>высшее</td>\n",
       "      <td>1</td>\n",
       "      <td>не женат / не замужем</td>\n",
       "      <td>2</td>\n",
       "      <td>0</td>\n",
       "    </tr>\n",
       "  </tbody>\n",
       "</table>\n",
       "</div>"
      ],
      "text/plain": [
       "          Пол  Возраст         Образование  Стаж работы  \\\n",
       "0     мужской        1  средне-специальное           26   \n",
       "200   женский        6              высшее            1   \n",
       "950   мужской       17  средне-специальное            9   \n",
       "1600  мужской       15  средне-специальное            3   \n",
       "2375  мужской        6              высшее           12   \n",
       "3250  мужской        8              высшее            1   \n",
       "\n",
       "         Семейное положение  Количество детей  Target  \n",
       "0      разведен / разведена                 0       0  \n",
       "200    разведен / разведена                 2       0  \n",
       "950    разведен / разведена                 3       0  \n",
       "1600   разведен / разведена                 1       0  \n",
       "2375   разведен / разведена                 0       0  \n",
       "3250  не женат / не замужем                 2       0  "
      ]
     },
     "metadata": {},
     "output_type": "display_data"
    }
   ],
   "source": [
    "display(train_df[train_df['Возраст']>64])\n",
    "display(train_df[train_df['Возраст']<18])"
   ]
  },
  {
   "cell_type": "markdown",
   "metadata": {},
   "source": [
    "Вышеуказанные записи относятся к большему классу (тех кто не ушел в дефолт), и подобных аномалий в тестовой выборке - нет. В связи с этим сочтем эти аномалии за аутлаеры и выкинем их из обучающей выборки"
   ]
  },
  {
   "cell_type": "code",
   "execution_count": 304,
   "metadata": {},
   "outputs": [],
   "source": [
    "train_df = train_df[(train_df['Возраст']<65)&((train_df['Возраст']>17))]"
   ]
  },
  {
   "cell_type": "code",
   "execution_count": 305,
   "metadata": {},
   "outputs": [
    {
     "data": {
      "image/png": "[encoded data removed]",
      "text/plain": [
       "<Figure size 1224x360 with 1 Axes>"
      ]
     },
     "metadata": {
      "needs_background": "light"
     },
     "output_type": "display_data"
    }
   ],
   "source": [
    "train_df['Возраст'].plot.hist(title = 'Гистограмма возраста',alpha =0.5, density=1);\n",
    "test_df['Возраст'].plot.hist(title = 'Гистограмма возраста',alpha =0.5, density=1);"
   ]
  },
  {
   "cell_type": "markdown",
   "metadata": {},
   "source": [
    "Избавимся от строк содержащих <b>Null</b>. Все эти записи имеют метку большего класса, их  потеря не несет существенного вреда (однако некоторые модели способны работать с неполными данными, но в данной ситуации строк с <b>Null</b> немного, и можно их отбросить)"
   ]
  },
  {
   "cell_type": "code",
   "execution_count": 306,
   "metadata": {},
   "outputs": [],
   "source": [
    "train_df.dropna(inplace=True)"
   ]
  },
  {
   "cell_type": "code",
   "execution_count": 307,
   "metadata": {},
   "outputs": [],
   "source": [
    "train_df.index = np.arange(len(train_df))"
   ]
  },
  {
   "cell_type": "markdown",
   "metadata": {},
   "source": [
    "Для работы с категориальными признаками воспользуемся <b>OHE (One hot encoding)</b>. Так как <b>Пол</b> - признак бинарный, для можно просто перекодировать признак: 1 - \"мужской\", 0 - \"женский\"."
   ]
  },
  {
   "cell_type": "code",
   "execution_count": 308,
   "metadata": {},
   "outputs": [
    {
     "data": {
      "text/html": [
       "<div>\n",
       "<style scoped>\n",
       "    .dataframe tbody tr th:only-of-type {\n",
       "        vertical-align: middle;\n",
       "    }\n",
       "\n",
       "    .dataframe tbody tr th {\n",
       "        vertical-align: top;\n",
       "    }\n",
       "\n",
       "    .dataframe thead th {\n",
       "        text-align: right;\n",
       "    }\n",
       "</style>\n",
       "<table border=\"1\" class=\"dataframe\">\n",
       "  <thead>\n",
       "    <tr style=\"text-align: right;\">\n",
       "      <th></th>\n",
       "      <th>Пол_мужской</th>\n",
       "      <th>Возраст</th>\n",
       "      <th>Стаж работы</th>\n",
       "      <th>Количество детей</th>\n",
       "      <th>Target</th>\n",
       "      <th>Образование_высшее</th>\n",
       "      <th>Образование_несколько высших</th>\n",
       "      <th>Образование_средне-специальное</th>\n",
       "      <th>Образование_среднее</th>\n",
       "      <th>Семейное положение_женат / замужем</th>\n",
       "      <th>Семейное положение_не женат / не замужем</th>\n",
       "      <th>Семейное положение_повторный брак</th>\n",
       "      <th>Семейное положение_разведен / разведена</th>\n",
       "    </tr>\n",
       "  </thead>\n",
       "  <tbody>\n",
       "    <tr>\n",
       "      <th>1986</th>\n",
       "      <td>1</td>\n",
       "      <td>21</td>\n",
       "      <td>3</td>\n",
       "      <td>1</td>\n",
       "      <td>0</td>\n",
       "      <td>1</td>\n",
       "      <td>0</td>\n",
       "      <td>0</td>\n",
       "      <td>0</td>\n",
       "      <td>0</td>\n",
       "      <td>1</td>\n",
       "      <td>0</td>\n",
       "      <td>0</td>\n",
       "    </tr>\n",
       "    <tr>\n",
       "      <th>509</th>\n",
       "      <td>1</td>\n",
       "      <td>23</td>\n",
       "      <td>5</td>\n",
       "      <td>3</td>\n",
       "      <td>1</td>\n",
       "      <td>0</td>\n",
       "      <td>0</td>\n",
       "      <td>1</td>\n",
       "      <td>0</td>\n",
       "      <td>0</td>\n",
       "      <td>0</td>\n",
       "      <td>1</td>\n",
       "      <td>0</td>\n",
       "    </tr>\n",
       "    <tr>\n",
       "      <th>174</th>\n",
       "      <td>0</td>\n",
       "      <td>47</td>\n",
       "      <td>9</td>\n",
       "      <td>3</td>\n",
       "      <td>0</td>\n",
       "      <td>0</td>\n",
       "      <td>0</td>\n",
       "      <td>0</td>\n",
       "      <td>1</td>\n",
       "      <td>1</td>\n",
       "      <td>0</td>\n",
       "      <td>0</td>\n",
       "      <td>0</td>\n",
       "    </tr>\n",
       "    <tr>\n",
       "      <th>2317</th>\n",
       "      <td>1</td>\n",
       "      <td>19</td>\n",
       "      <td>0</td>\n",
       "      <td>3</td>\n",
       "      <td>0</td>\n",
       "      <td>0</td>\n",
       "      <td>0</td>\n",
       "      <td>0</td>\n",
       "      <td>1</td>\n",
       "      <td>0</td>\n",
       "      <td>1</td>\n",
       "      <td>0</td>\n",
       "      <td>0</td>\n",
       "    </tr>\n",
       "    <tr>\n",
       "      <th>3541</th>\n",
       "      <td>1</td>\n",
       "      <td>32</td>\n",
       "      <td>14</td>\n",
       "      <td>0</td>\n",
       "      <td>0</td>\n",
       "      <td>1</td>\n",
       "      <td>0</td>\n",
       "      <td>0</td>\n",
       "      <td>0</td>\n",
       "      <td>0</td>\n",
       "      <td>1</td>\n",
       "      <td>0</td>\n",
       "      <td>0</td>\n",
       "    </tr>\n",
       "  </tbody>\n",
       "</table>\n",
       "</div>"
      ],
      "text/plain": [
       "      Пол_мужской  Возраст  Стаж работы  Количество детей  Target  \\\n",
       "1986            1       21            3                 1       0   \n",
       "509             1       23            5                 3       1   \n",
       "174             0       47            9                 3       0   \n",
       "2317            1       19            0                 3       0   \n",
       "3541            1       32           14                 0       0   \n",
       "\n",
       "      Образование_высшее  Образование_несколько высших  \\\n",
       "1986                   1                             0   \n",
       "509                    0                             0   \n",
       "174                    0                             0   \n",
       "2317                   0                             0   \n",
       "3541                   1                             0   \n",
       "\n",
       "      Образование_средне-специальное  Образование_среднее  \\\n",
       "1986                               0                    0   \n",
       "509                                1                    0   \n",
       "174                                0                    1   \n",
       "2317                               0                    1   \n",
       "3541                               0                    0   \n",
       "\n",
       "      Семейное положение_женат / замужем  \\\n",
       "1986                                   0   \n",
       "509                                    0   \n",
       "174                                    1   \n",
       "2317                                   0   \n",
       "3541                                   0   \n",
       "\n",
       "      Семейное положение_не женат / не замужем  \\\n",
       "1986                                         1   \n",
       "509                                          0   \n",
       "174                                          0   \n",
       "2317                                         1   \n",
       "3541                                         1   \n",
       "\n",
       "      Семейное положение_повторный брак  \\\n",
       "1986                                  0   \n",
       "509                                   1   \n",
       "174                                   0   \n",
       "2317                                  0   \n",
       "3541                                  0   \n",
       "\n",
       "      Семейное положение_разведен / разведена  \n",
       "1986                                        0  \n",
       "509                                         0  \n",
       "174                                         0  \n",
       "2317                                        0  \n",
       "3541                                        0  "
      ]
     },
     "execution_count": 308,
     "metadata": {},
     "output_type": "execute_result"
    }
   ],
   "source": [
    "train_df['Пол'] = (train_df['Пол'] == 'мужской').astype('int')\n",
    "train_df = train_df.rename(columns={'Пол': 'Пол_мужской'})\n",
    "\n",
    "test_df['Пол'] = (test_df['Пол'] == 'мужской').astype('int')\n",
    "test_df = test_df.rename(columns={'Пол': 'Пол_мужской'})\n",
    "\n",
    "train_df = pd.get_dummies(train_df)\n",
    "test_df = pd.get_dummies(test_df)\n",
    "train_df.sample(5)"
   ]
  },
  {
   "cell_type": "code",
   "execution_count": 310,
   "metadata": {},
   "outputs": [
    {
     "data": {
      "text/html": [
       "<div>\n",
       "<style scoped>\n",
       "    .dataframe tbody tr th:only-of-type {\n",
       "        vertical-align: middle;\n",
       "    }\n",
       "\n",
       "    .dataframe tbody tr th {\n",
       "        vertical-align: top;\n",
       "    }\n",
       "\n",
       "    .dataframe thead th {\n",
       "        text-align: right;\n",
       "    }\n",
       "</style>\n",
       "<table border=\"1\" class=\"dataframe\">\n",
       "  <thead>\n",
       "    <tr style=\"text-align: right;\">\n",
       "      <th></th>\n",
       "      <th>Пол_мужской</th>\n",
       "      <th>Возраст</th>\n",
       "      <th>Стаж работы</th>\n",
       "      <th>Количество детей</th>\n",
       "      <th>Target</th>\n",
       "      <th>Образование_высшее</th>\n",
       "      <th>Образование_несколько высших</th>\n",
       "      <th>Образование_средне-специальное</th>\n",
       "      <th>Образование_среднее</th>\n",
       "      <th>Семейное положение_женат / замужем</th>\n",
       "      <th>Семейное положение_не женат / не замужем</th>\n",
       "      <th>Семейное положение_повторный брак</th>\n",
       "      <th>Семейное положение_разведен / разведена</th>\n",
       "    </tr>\n",
       "  </thead>\n",
       "  <tbody>\n",
       "    <tr>\n",
       "      <th>Пол_мужской</th>\n",
       "      <td>1.000000</td>\n",
       "      <td>-0.012861</td>\n",
       "      <td>-0.002047</td>\n",
       "      <td>0.016461</td>\n",
       "      <td>0.078541</td>\n",
       "      <td>0.002323</td>\n",
       "      <td>0.003889</td>\n",
       "      <td>0.004157</td>\n",
       "      <td>-0.010858</td>\n",
       "      <td>-0.001848</td>\n",
       "      <td>-0.010453</td>\n",
       "      <td>0.012505</td>\n",
       "      <td>0.001601</td>\n",
       "    </tr>\n",
       "    <tr>\n",
       "      <th>Возраст</th>\n",
       "      <td>-0.012861</td>\n",
       "      <td>1.000000</td>\n",
       "      <td>0.551535</td>\n",
       "      <td>-0.043038</td>\n",
       "      <td>-0.088897</td>\n",
       "      <td>0.002218</td>\n",
       "      <td>-0.015627</td>\n",
       "      <td>-0.002809</td>\n",
       "      <td>0.010143</td>\n",
       "      <td>0.000148</td>\n",
       "      <td>0.024229</td>\n",
       "      <td>-0.012764</td>\n",
       "      <td>-0.014920</td>\n",
       "    </tr>\n",
       "    <tr>\n",
       "      <th>Стаж работы</th>\n",
       "      <td>-0.002047</td>\n",
       "      <td>0.551535</td>\n",
       "      <td>1.000000</td>\n",
       "      <td>-0.023439</td>\n",
       "      <td>-0.081678</td>\n",
       "      <td>-0.019604</td>\n",
       "      <td>0.008805</td>\n",
       "      <td>0.008987</td>\n",
       "      <td>0.009858</td>\n",
       "      <td>0.002490</td>\n",
       "      <td>0.019755</td>\n",
       "      <td>-0.004530</td>\n",
       "      <td>-0.018723</td>\n",
       "    </tr>\n",
       "    <tr>\n",
       "      <th>Количество детей</th>\n",
       "      <td>0.016461</td>\n",
       "      <td>-0.043038</td>\n",
       "      <td>-0.023439</td>\n",
       "      <td>1.000000</td>\n",
       "      <td>-0.012815</td>\n",
       "      <td>-0.019534</td>\n",
       "      <td>-0.002415</td>\n",
       "      <td>0.022413</td>\n",
       "      <td>-0.000497</td>\n",
       "      <td>-0.008761</td>\n",
       "      <td>-0.029066</td>\n",
       "      <td>0.016329</td>\n",
       "      <td>0.022570</td>\n",
       "    </tr>\n",
       "    <tr>\n",
       "      <th>Target</th>\n",
       "      <td>0.078541</td>\n",
       "      <td>-0.088897</td>\n",
       "      <td>-0.081678</td>\n",
       "      <td>-0.012815</td>\n",
       "      <td>1.000000</td>\n",
       "      <td>-0.020308</td>\n",
       "      <td>-0.031961</td>\n",
       "      <td>-0.002738</td>\n",
       "      <td>0.050781</td>\n",
       "      <td>-0.026451</td>\n",
       "      <td>0.034920</td>\n",
       "      <td>-0.051897</td>\n",
       "      <td>0.024379</td>\n",
       "    </tr>\n",
       "    <tr>\n",
       "      <th>Образование_высшее</th>\n",
       "      <td>0.002323</td>\n",
       "      <td>0.002218</td>\n",
       "      <td>-0.019604</td>\n",
       "      <td>-0.019534</td>\n",
       "      <td>-0.020308</td>\n",
       "      <td>1.000000</td>\n",
       "      <td>-0.221366</td>\n",
       "      <td>-0.643262</td>\n",
       "      <td>-0.406594</td>\n",
       "      <td>-0.034154</td>\n",
       "      <td>0.008806</td>\n",
       "      <td>-0.004953</td>\n",
       "      <td>0.016936</td>\n",
       "    </tr>\n",
       "    <tr>\n",
       "      <th>Образование_несколько высших</th>\n",
       "      <td>0.003889</td>\n",
       "      <td>-0.015627</td>\n",
       "      <td>0.008805</td>\n",
       "      <td>-0.002415</td>\n",
       "      <td>-0.031961</td>\n",
       "      <td>-0.221366</td>\n",
       "      <td>1.000000</td>\n",
       "      <td>-0.163081</td>\n",
       "      <td>-0.103081</td>\n",
       "      <td>-0.017878</td>\n",
       "      <td>0.003836</td>\n",
       "      <td>0.015822</td>\n",
       "      <td>-0.006068</td>\n",
       "    </tr>\n",
       "    <tr>\n",
       "      <th>Образование_средне-специальное</th>\n",
       "      <td>0.004157</td>\n",
       "      <td>-0.002809</td>\n",
       "      <td>0.008987</td>\n",
       "      <td>0.022413</td>\n",
       "      <td>-0.002738</td>\n",
       "      <td>-0.643262</td>\n",
       "      <td>-0.163081</td>\n",
       "      <td>1.000000</td>\n",
       "      <td>-0.299539</td>\n",
       "      <td>0.038435</td>\n",
       "      <td>0.003399</td>\n",
       "      <td>-0.004662</td>\n",
       "      <td>-0.024443</td>\n",
       "    </tr>\n",
       "    <tr>\n",
       "      <th>Образование_среднее</th>\n",
       "      <td>-0.010858</td>\n",
       "      <td>0.010143</td>\n",
       "      <td>0.009858</td>\n",
       "      <td>-0.000497</td>\n",
       "      <td>0.050781</td>\n",
       "      <td>-0.406594</td>\n",
       "      <td>-0.103081</td>\n",
       "      <td>-0.299539</td>\n",
       "      <td>1.000000</td>\n",
       "      <td>0.008464</td>\n",
       "      <td>-0.018698</td>\n",
       "      <td>0.003005</td>\n",
       "      <td>0.011831</td>\n",
       "    </tr>\n",
       "    <tr>\n",
       "      <th>Семейное положение_женат / замужем</th>\n",
       "      <td>-0.001848</td>\n",
       "      <td>0.000148</td>\n",
       "      <td>0.002490</td>\n",
       "      <td>-0.008761</td>\n",
       "      <td>-0.026451</td>\n",
       "      <td>-0.034154</td>\n",
       "      <td>-0.017878</td>\n",
       "      <td>0.038435</td>\n",
       "      <td>0.008464</td>\n",
       "      <td>1.000000</td>\n",
       "      <td>-0.270543</td>\n",
       "      <td>-0.161613</td>\n",
       "      <td>-0.220012</td>\n",
       "    </tr>\n",
       "    <tr>\n",
       "      <th>Семейное положение_не женат / не замужем</th>\n",
       "      <td>-0.010453</td>\n",
       "      <td>0.024229</td>\n",
       "      <td>0.019755</td>\n",
       "      <td>-0.029066</td>\n",
       "      <td>0.034920</td>\n",
       "      <td>0.008806</td>\n",
       "      <td>0.003836</td>\n",
       "      <td>0.003399</td>\n",
       "      <td>-0.018698</td>\n",
       "      <td>-0.270543</td>\n",
       "      <td>1.000000</td>\n",
       "      <td>-0.400481</td>\n",
       "      <td>-0.545195</td>\n",
       "    </tr>\n",
       "    <tr>\n",
       "      <th>Семейное положение_повторный брак</th>\n",
       "      <td>0.012505</td>\n",
       "      <td>-0.012764</td>\n",
       "      <td>-0.004530</td>\n",
       "      <td>0.016329</td>\n",
       "      <td>-0.051897</td>\n",
       "      <td>-0.004953</td>\n",
       "      <td>0.015822</td>\n",
       "      <td>-0.004662</td>\n",
       "      <td>0.003005</td>\n",
       "      <td>-0.161613</td>\n",
       "      <td>-0.400481</td>\n",
       "      <td>1.000000</td>\n",
       "      <td>-0.325680</td>\n",
       "    </tr>\n",
       "    <tr>\n",
       "      <th>Семейное положение_разведен / разведена</th>\n",
       "      <td>0.001601</td>\n",
       "      <td>-0.014920</td>\n",
       "      <td>-0.018723</td>\n",
       "      <td>0.022570</td>\n",
       "      <td>0.024379</td>\n",
       "      <td>0.016936</td>\n",
       "      <td>-0.006068</td>\n",
       "      <td>-0.024443</td>\n",
       "      <td>0.011831</td>\n",
       "      <td>-0.220012</td>\n",
       "      <td>-0.545195</td>\n",
       "      <td>-0.325680</td>\n",
       "      <td>1.000000</td>\n",
       "    </tr>\n",
       "  </tbody>\n",
       "</table>\n",
       "</div>"
      ],
      "text/plain": [
       "                                          Пол_мужской   Возраст  Стаж работы  \\\n",
       "Пол_мужской                                  1.000000 -0.012861    -0.002047   \n",
       "Возраст                                     -0.012861  1.000000     0.551535   \n",
       "Стаж работы                                 -0.002047  0.551535     1.000000   \n",
       "Количество детей                             0.016461 -0.043038    -0.023439   \n",
       "Target                                       0.078541 -0.088897    -0.081678   \n",
       "Образование_высшее                           0.002323  0.002218    -0.019604   \n",
       "Образование_несколько высших                 0.003889 -0.015627     0.008805   \n",
       "Образование_средне-специальное               0.004157 -0.002809     0.008987   \n",
       "Образование_среднее                         -0.010858  0.010143     0.009858   \n",
       "Семейное положение_женат / замужем          -0.001848  0.000148     0.002490   \n",
       "Семейное положение_не женат / не замужем    -0.010453  0.024229     0.019755   \n",
       "Семейное положение_повторный брак            0.012505 -0.012764    -0.004530   \n",
       "Семейное положение_разведен / разведена      0.001601 -0.014920    -0.018723   \n",
       "\n",
       "                                          Количество детей    Target  \\\n",
       "Пол_мужской                                       0.016461  0.078541   \n",
       "Возраст                                          -0.043038 -0.088897   \n",
       "Стаж работы                                      -0.023439 -0.081678   \n",
       "Количество детей                                  1.000000 -0.012815   \n",
       "Target                                           -0.012815  1.000000   \n",
       "Образование_высшее                               -0.019534 -0.020308   \n",
       "Образование_несколько высших                     -0.002415 -0.031961   \n",
       "Образование_средне-специальное                    0.022413 -0.002738   \n",
       "Образование_среднее                              -0.000497  0.050781   \n",
       "Семейное положение_женат / замужем               -0.008761 -0.026451   \n",
       "Семейное положение_не женат / не замужем         -0.029066  0.034920   \n",
       "Семейное положение_повторный брак                 0.016329 -0.051897   \n",
       "Семейное положение_разведен / разведена           0.022570  0.024379   \n",
       "\n",
       "                                          Образование_высшее  \\\n",
       "Пол_мужской                                         0.002323   \n",
       "Возраст                                             0.002218   \n",
       "Стаж работы                                        -0.019604   \n",
       "Количество детей                                   -0.019534   \n",
       "Target                                             -0.020308   \n",
       "Образование_высшее                                  1.000000   \n",
       "Образование_несколько высших                       -0.221366   \n",
       "Образование_средне-специальное                     -0.643262   \n",
       "Образование_среднее                                -0.406594   \n",
       "Семейное положение_женат / замужем                 -0.034154   \n",
       "Семейное положение_не женат / не замужем            0.008806   \n",
       "Семейное положение_повторный брак                  -0.004953   \n",
       "Семейное положение_разведен / разведена             0.016936   \n",
       "\n",
       "                                          Образование_несколько высших  \\\n",
       "Пол_мужской                                                   0.003889   \n",
       "Возраст                                                      -0.015627   \n",
       "Стаж работы                                                   0.008805   \n",
       "Количество детей                                             -0.002415   \n",
       "Target                                                       -0.031961   \n",
       "Образование_высшее                                           -0.221366   \n",
       "Образование_несколько высших                                  1.000000   \n",
       "Образование_средне-специальное                               -0.163081   \n",
       "Образование_среднее                                          -0.103081   \n",
       "Семейное положение_женат / замужем                           -0.017878   \n",
       "Семейное положение_не женат / не замужем                      0.003836   \n",
       "Семейное положение_повторный брак                             0.015822   \n",
       "Семейное положение_разведен / разведена                      -0.006068   \n",
       "\n",
       "                                          Образование_средне-специальное  \\\n",
       "Пол_мужской                                                     0.004157   \n",
       "Возраст                                                        -0.002809   \n",
       "Стаж работы                                                     0.008987   \n",
       "Количество детей                                                0.022413   \n",
       "Target                                                         -0.002738   \n",
       "Образование_высшее                                             -0.643262   \n",
       "Образование_несколько высших                                   -0.163081   \n",
       "Образование_средне-специальное                                  1.000000   \n",
       "Образование_среднее                                            -0.299539   \n",
       "Семейное положение_женат / замужем                              0.038435   \n",
       "Семейное положение_не женат / не замужем                        0.003399   \n",
       "Семейное положение_повторный брак                              -0.004662   \n",
       "Семейное положение_разведен / разведена                        -0.024443   \n",
       "\n",
       "                                          Образование_среднее  \\\n",
       "Пол_мужской                                         -0.010858   \n",
       "Возраст                                              0.010143   \n",
       "Стаж работы                                          0.009858   \n",
       "Количество детей                                    -0.000497   \n",
       "Target                                               0.050781   \n",
       "Образование_высшее                                  -0.406594   \n",
       "Образование_несколько высших                        -0.103081   \n",
       "Образование_средне-специальное                      -0.299539   \n",
       "Образование_среднее                                  1.000000   \n",
       "Семейное положение_женат / замужем                   0.008464   \n",
       "Семейное положение_не женат / не замужем            -0.018698   \n",
       "Семейное положение_повторный брак                    0.003005   \n",
       "Семейное положение_разведен / разведена              0.011831   \n",
       "\n",
       "                                          Семейное положение_женат / замужем  \\\n",
       "Пол_мужской                                                        -0.001848   \n",
       "Возраст                                                             0.000148   \n",
       "Стаж работы                                                         0.002490   \n",
       "Количество детей                                                   -0.008761   \n",
       "Target                                                             -0.026451   \n",
       "Образование_высшее                                                 -0.034154   \n",
       "Образование_несколько высших                                       -0.017878   \n",
       "Образование_средне-специальное                                      0.038435   \n",
       "Образование_среднее                                                 0.008464   \n",
       "Семейное положение_женат / замужем                                  1.000000   \n",
       "Семейное положение_не женат / не замужем                           -0.270543   \n",
       "Семейное положение_повторный брак                                  -0.161613   \n",
       "Семейное положение_разведен / разведена                            -0.220012   \n",
       "\n",
       "                                          Семейное положение_не женат / не замужем  \\\n",
       "Пол_мужской                                                              -0.010453   \n",
       "Возраст                                                                   0.024229   \n",
       "Стаж работы                                                               0.019755   \n",
       "Количество детей                                                         -0.029066   \n",
       "Target                                                                    0.034920   \n",
       "Образование_высшее                                                        0.008806   \n",
       "Образование_несколько высших                                              0.003836   \n",
       "Образование_средне-специальное                                            0.003399   \n",
       "Образование_среднее                                                      -0.018698   \n",
       "Семейное положение_женат / замужем                                       -0.270543   \n",
       "Семейное положение_не женат / не замужем                                  1.000000   \n",
       "Семейное положение_повторный брак                                        -0.400481   \n",
       "Семейное положение_разведен / разведена                                  -0.545195   \n",
       "\n",
       "                                          Семейное положение_повторный брак  \\\n",
       "Пол_мужской                                                        0.012505   \n",
       "Возраст                                                           -0.012764   \n",
       "Стаж работы                                                       -0.004530   \n",
       "Количество детей                                                   0.016329   \n",
       "Target                                                            -0.051897   \n",
       "Образование_высшее                                                -0.004953   \n",
       "Образование_несколько высших                                       0.015822   \n",
       "Образование_средне-специальное                                    -0.004662   \n",
       "Образование_среднее                                                0.003005   \n",
       "Семейное положение_женат / замужем                                -0.161613   \n",
       "Семейное положение_не женат / не замужем                          -0.400481   \n",
       "Семейное положение_повторный брак                                  1.000000   \n",
       "Семейное положение_разведен / разведена                           -0.325680   \n",
       "\n",
       "                                          Семейное положение_разведен / разведена  \n",
       "Пол_мужской                                                              0.001601  \n",
       "Возраст                                                                 -0.014920  \n",
       "Стаж работы                                                             -0.018723  \n",
       "Количество детей                                                         0.022570  \n",
       "Target                                                                   0.024379  \n",
       "Образование_высшее                                                       0.016936  \n",
       "Образование_несколько высших                                            -0.006068  \n",
       "Образование_средне-специальное                                          -0.024443  \n",
       "Образование_среднее                                                      0.011831  \n",
       "Семейное положение_женат / замужем                                      -0.220012  \n",
       "Семейное положение_не женат / не замужем                                -0.545195  \n",
       "Семейное положение_повторный брак                                       -0.325680  \n",
       "Семейное положение_разведен / разведена                                  1.000000  "
      ]
     },
     "execution_count": 310,
     "metadata": {},
     "output_type": "execute_result"
    }
   ],
   "source": [
    "train_df.corr()"
   ]
  },
  {
   "cell_type": "code",
   "execution_count": 311,
   "metadata": {},
   "outputs": [
    {
     "data": {
      "text/html": [
       "<div>\n",
       "<style scoped>\n",
       "    .dataframe tbody tr th:only-of-type {\n",
       "        vertical-align: middle;\n",
       "    }\n",
       "\n",
       "    .dataframe tbody tr th {\n",
       "        vertical-align: top;\n",
       "    }\n",
       "\n",
       "    .dataframe thead th {\n",
       "        text-align: right;\n",
       "    }\n",
       "</style>\n",
       "<table border=\"1\" class=\"dataframe\">\n",
       "  <thead>\n",
       "    <tr style=\"text-align: right;\">\n",
       "      <th></th>\n",
       "      <th>Пол_мужской</th>\n",
       "      <th>Возраст</th>\n",
       "      <th>Стаж работы</th>\n",
       "      <th>Количество детей</th>\n",
       "      <th>Target</th>\n",
       "      <th>Образование_высшее</th>\n",
       "      <th>Образование_несколько высших</th>\n",
       "      <th>Образование_средне-специальное</th>\n",
       "      <th>Образование_среднее</th>\n",
       "      <th>Семейное положение_женат / замужем</th>\n",
       "      <th>Семейное положение_не женат / не замужем</th>\n",
       "      <th>Семейное положение_повторный брак</th>\n",
       "      <th>Семейное положение_разведен / разведена</th>\n",
       "    </tr>\n",
       "  </thead>\n",
       "  <tbody>\n",
       "    <tr>\n",
       "      <th>count</th>\n",
       "      <td>4110.000000</td>\n",
       "      <td>4110.000000</td>\n",
       "      <td>4110.000000</td>\n",
       "      <td>4110.000000</td>\n",
       "      <td>4110.0</td>\n",
       "      <td>4110.000000</td>\n",
       "      <td>4110.000000</td>\n",
       "      <td>4110.000000</td>\n",
       "      <td>4110.000000</td>\n",
       "      <td>4110.000000</td>\n",
       "      <td>4110.000000</td>\n",
       "      <td>4110.000000</td>\n",
       "      <td>4110.000000</td>\n",
       "    </tr>\n",
       "    <tr>\n",
       "      <th>mean</th>\n",
       "      <td>0.588321</td>\n",
       "      <td>35.549148</td>\n",
       "      <td>9.689538</td>\n",
       "      <td>1.655961</td>\n",
       "      <td>0.0</td>\n",
       "      <td>0.469100</td>\n",
       "      <td>0.055231</td>\n",
       "      <td>0.321898</td>\n",
       "      <td>0.153771</td>\n",
       "      <td>0.100730</td>\n",
       "      <td>0.396350</td>\n",
       "      <td>0.199027</td>\n",
       "      <td>0.303893</td>\n",
       "    </tr>\n",
       "    <tr>\n",
       "      <th>std</th>\n",
       "      <td>0.492197</td>\n",
       "      <td>13.386240</td>\n",
       "      <td>9.183453</td>\n",
       "      <td>1.649615</td>\n",
       "      <td>0.0</td>\n",
       "      <td>0.499105</td>\n",
       "      <td>0.228459</td>\n",
       "      <td>0.467261</td>\n",
       "      <td>0.360773</td>\n",
       "      <td>0.301007</td>\n",
       "      <td>0.489198</td>\n",
       "      <td>0.399317</td>\n",
       "      <td>0.459993</td>\n",
       "    </tr>\n",
       "    <tr>\n",
       "      <th>min</th>\n",
       "      <td>0.000000</td>\n",
       "      <td>18.000000</td>\n",
       "      <td>0.000000</td>\n",
       "      <td>0.000000</td>\n",
       "      <td>0.0</td>\n",
       "      <td>0.000000</td>\n",
       "      <td>0.000000</td>\n",
       "      <td>0.000000</td>\n",
       "      <td>0.000000</td>\n",
       "      <td>0.000000</td>\n",
       "      <td>0.000000</td>\n",
       "      <td>0.000000</td>\n",
       "      <td>0.000000</td>\n",
       "    </tr>\n",
       "    <tr>\n",
       "      <th>25%</th>\n",
       "      <td>0.000000</td>\n",
       "      <td>24.000000</td>\n",
       "      <td>2.000000</td>\n",
       "      <td>0.000000</td>\n",
       "      <td>0.0</td>\n",
       "      <td>0.000000</td>\n",
       "      <td>0.000000</td>\n",
       "      <td>0.000000</td>\n",
       "      <td>0.000000</td>\n",
       "      <td>0.000000</td>\n",
       "      <td>0.000000</td>\n",
       "      <td>0.000000</td>\n",
       "      <td>0.000000</td>\n",
       "    </tr>\n",
       "    <tr>\n",
       "      <th>50%</th>\n",
       "      <td>1.000000</td>\n",
       "      <td>33.000000</td>\n",
       "      <td>7.000000</td>\n",
       "      <td>1.000000</td>\n",
       "      <td>0.0</td>\n",
       "      <td>0.000000</td>\n",
       "      <td>0.000000</td>\n",
       "      <td>0.000000</td>\n",
       "      <td>0.000000</td>\n",
       "      <td>0.000000</td>\n",
       "      <td>0.000000</td>\n",
       "      <td>0.000000</td>\n",
       "      <td>0.000000</td>\n",
       "    </tr>\n",
       "    <tr>\n",
       "      <th>75%</th>\n",
       "      <td>1.000000</td>\n",
       "      <td>45.000000</td>\n",
       "      <td>15.000000</td>\n",
       "      <td>2.000000</td>\n",
       "      <td>0.0</td>\n",
       "      <td>1.000000</td>\n",
       "      <td>0.000000</td>\n",
       "      <td>1.000000</td>\n",
       "      <td>0.000000</td>\n",
       "      <td>0.000000</td>\n",
       "      <td>1.000000</td>\n",
       "      <td>0.000000</td>\n",
       "      <td>1.000000</td>\n",
       "    </tr>\n",
       "    <tr>\n",
       "      <th>max</th>\n",
       "      <td>1.000000</td>\n",
       "      <td>64.000000</td>\n",
       "      <td>46.000000</td>\n",
       "      <td>7.000000</td>\n",
       "      <td>0.0</td>\n",
       "      <td>1.000000</td>\n",
       "      <td>1.000000</td>\n",
       "      <td>1.000000</td>\n",
       "      <td>1.000000</td>\n",
       "      <td>1.000000</td>\n",
       "      <td>1.000000</td>\n",
       "      <td>1.000000</td>\n",
       "      <td>1.000000</td>\n",
       "    </tr>\n",
       "  </tbody>\n",
       "</table>\n",
       "</div>"
      ],
      "text/plain": [
       "       Пол_мужской      Возраст  Стаж работы  Количество детей  Target  \\\n",
       "count  4110.000000  4110.000000  4110.000000       4110.000000  4110.0   \n",
       "mean      0.588321    35.549148     9.689538          1.655961     0.0   \n",
       "std       0.492197    13.386240     9.183453          1.649615     0.0   \n",
       "min       0.000000    18.000000     0.000000          0.000000     0.0   \n",
       "25%       0.000000    24.000000     2.000000          0.000000     0.0   \n",
       "50%       1.000000    33.000000     7.000000          1.000000     0.0   \n",
       "75%       1.000000    45.000000    15.000000          2.000000     0.0   \n",
       "max       1.000000    64.000000    46.000000          7.000000     0.0   \n",
       "\n",
       "       Образование_высшее  Образование_несколько высших  \\\n",
       "count         4110.000000                   4110.000000   \n",
       "mean             0.469100                      0.055231   \n",
       "std              0.499105                      0.228459   \n",
       "min              0.000000                      0.000000   \n",
       "25%              0.000000                      0.000000   \n",
       "50%              0.000000                      0.000000   \n",
       "75%              1.000000                      0.000000   \n",
       "max              1.000000                      1.000000   \n",
       "\n",
       "       Образование_средне-специальное  Образование_среднее  \\\n",
       "count                     4110.000000          4110.000000   \n",
       "mean                         0.321898             0.153771   \n",
       "std                          0.467261             0.360773   \n",
       "min                          0.000000             0.000000   \n",
       "25%                          0.000000             0.000000   \n",
       "50%                          0.000000             0.000000   \n",
       "75%                          1.000000             0.000000   \n",
       "max                          1.000000             1.000000   \n",
       "\n",
       "       Семейное положение_женат / замужем  \\\n",
       "count                         4110.000000   \n",
       "mean                             0.100730   \n",
       "std                              0.301007   \n",
       "min                              0.000000   \n",
       "25%                              0.000000   \n",
       "50%                              0.000000   \n",
       "75%                              0.000000   \n",
       "max                              1.000000   \n",
       "\n",
       "       Семейное положение_не женат / не замужем  \\\n",
       "count                               4110.000000   \n",
       "mean                                   0.396350   \n",
       "std                                    0.489198   \n",
       "min                                    0.000000   \n",
       "25%                                    0.000000   \n",
       "50%                                    0.000000   \n",
       "75%                                    1.000000   \n",
       "max                                    1.000000   \n",
       "\n",
       "       Семейное положение_повторный брак  \\\n",
       "count                        4110.000000   \n",
       "mean                            0.199027   \n",
       "std                             0.399317   \n",
       "min                             0.000000   \n",
       "25%                             0.000000   \n",
       "50%                             0.000000   \n",
       "75%                             0.000000   \n",
       "max                             1.000000   \n",
       "\n",
       "       Семейное положение_разведен / разведена  \n",
       "count                              4110.000000  \n",
       "mean                                  0.303893  \n",
       "std                                   0.459993  \n",
       "min                                   0.000000  \n",
       "25%                                   0.000000  \n",
       "50%                                   0.000000  \n",
       "75%                                   1.000000  \n",
       "max                                   1.000000  "
      ]
     },
     "execution_count": 311,
     "metadata": {},
     "output_type": "execute_result"
    }
   ],
   "source": [
    "train_df[train_df['Target']==0].describe()"
   ]
  },
  {
   "cell_type": "code",
   "execution_count": 312,
   "metadata": {},
   "outputs": [
    {
     "data": {
      "text/html": [
       "<div>\n",
       "<style scoped>\n",
       "    .dataframe tbody tr th:only-of-type {\n",
       "        vertical-align: middle;\n",
       "    }\n",
       "\n",
       "    .dataframe tbody tr th {\n",
       "        vertical-align: top;\n",
       "    }\n",
       "\n",
       "    .dataframe thead th {\n",
       "        text-align: right;\n",
       "    }\n",
       "</style>\n",
       "<table border=\"1\" class=\"dataframe\">\n",
       "  <thead>\n",
       "    <tr style=\"text-align: right;\">\n",
       "      <th></th>\n",
       "      <th>Пол_мужской</th>\n",
       "      <th>Возраст</th>\n",
       "      <th>Стаж работы</th>\n",
       "      <th>Количество детей</th>\n",
       "      <th>Target</th>\n",
       "      <th>Образование_высшее</th>\n",
       "      <th>Образование_несколько высших</th>\n",
       "      <th>Образование_средне-специальное</th>\n",
       "      <th>Образование_среднее</th>\n",
       "      <th>Семейное положение_женат / замужем</th>\n",
       "      <th>Семейное положение_не женат / не замужем</th>\n",
       "      <th>Семейное положение_повторный брак</th>\n",
       "      <th>Семейное положение_разведен / разведена</th>\n",
       "    </tr>\n",
       "  </thead>\n",
       "  <tbody>\n",
       "    <tr>\n",
       "      <th>count</th>\n",
       "      <td>350.000000</td>\n",
       "      <td>350.000000</td>\n",
       "      <td>350.000000</td>\n",
       "      <td>350.000000</td>\n",
       "      <td>350.0</td>\n",
       "      <td>350.000000</td>\n",
       "      <td>350.000000</td>\n",
       "      <td>350.000000</td>\n",
       "      <td>350.000000</td>\n",
       "      <td>350.000000</td>\n",
       "      <td>350.000000</td>\n",
       "      <td>350.000000</td>\n",
       "      <td>350.000000</td>\n",
       "    </tr>\n",
       "    <tr>\n",
       "      <th>mean</th>\n",
       "      <td>0.731429</td>\n",
       "      <td>31.145714</td>\n",
       "      <td>6.942857</td>\n",
       "      <td>1.577143</td>\n",
       "      <td>1.0</td>\n",
       "      <td>0.431429</td>\n",
       "      <td>0.028571</td>\n",
       "      <td>0.317143</td>\n",
       "      <td>0.222857</td>\n",
       "      <td>0.071429</td>\n",
       "      <td>0.460000</td>\n",
       "      <td>0.122857</td>\n",
       "      <td>0.345714</td>\n",
       "    </tr>\n",
       "    <tr>\n",
       "      <th>std</th>\n",
       "      <td>0.443851</td>\n",
       "      <td>11.827263</td>\n",
       "      <td>6.722680</td>\n",
       "      <td>1.707406</td>\n",
       "      <td>0.0</td>\n",
       "      <td>0.495985</td>\n",
       "      <td>0.166837</td>\n",
       "      <td>0.466030</td>\n",
       "      <td>0.416759</td>\n",
       "      <td>0.257908</td>\n",
       "      <td>0.499111</td>\n",
       "      <td>0.328743</td>\n",
       "      <td>0.476281</td>\n",
       "    </tr>\n",
       "    <tr>\n",
       "      <th>min</th>\n",
       "      <td>0.000000</td>\n",
       "      <td>18.000000</td>\n",
       "      <td>0.000000</td>\n",
       "      <td>0.000000</td>\n",
       "      <td>1.0</td>\n",
       "      <td>0.000000</td>\n",
       "      <td>0.000000</td>\n",
       "      <td>0.000000</td>\n",
       "      <td>0.000000</td>\n",
       "      <td>0.000000</td>\n",
       "      <td>0.000000</td>\n",
       "      <td>0.000000</td>\n",
       "      <td>0.000000</td>\n",
       "    </tr>\n",
       "    <tr>\n",
       "      <th>25%</th>\n",
       "      <td>0.000000</td>\n",
       "      <td>22.000000</td>\n",
       "      <td>2.000000</td>\n",
       "      <td>0.000000</td>\n",
       "      <td>1.0</td>\n",
       "      <td>0.000000</td>\n",
       "      <td>0.000000</td>\n",
       "      <td>0.000000</td>\n",
       "      <td>0.000000</td>\n",
       "      <td>0.000000</td>\n",
       "      <td>0.000000</td>\n",
       "      <td>0.000000</td>\n",
       "      <td>0.000000</td>\n",
       "    </tr>\n",
       "    <tr>\n",
       "      <th>50%</th>\n",
       "      <td>1.000000</td>\n",
       "      <td>27.000000</td>\n",
       "      <td>5.000000</td>\n",
       "      <td>1.000000</td>\n",
       "      <td>1.0</td>\n",
       "      <td>0.000000</td>\n",
       "      <td>0.000000</td>\n",
       "      <td>0.000000</td>\n",
       "      <td>0.000000</td>\n",
       "      <td>0.000000</td>\n",
       "      <td>0.000000</td>\n",
       "      <td>0.000000</td>\n",
       "      <td>0.000000</td>\n",
       "    </tr>\n",
       "    <tr>\n",
       "      <th>75%</th>\n",
       "      <td>1.000000</td>\n",
       "      <td>38.000000</td>\n",
       "      <td>10.000000</td>\n",
       "      <td>3.000000</td>\n",
       "      <td>1.0</td>\n",
       "      <td>1.000000</td>\n",
       "      <td>0.000000</td>\n",
       "      <td>1.000000</td>\n",
       "      <td>0.000000</td>\n",
       "      <td>0.000000</td>\n",
       "      <td>1.000000</td>\n",
       "      <td>0.000000</td>\n",
       "      <td>1.000000</td>\n",
       "    </tr>\n",
       "    <tr>\n",
       "      <th>max</th>\n",
       "      <td>1.000000</td>\n",
       "      <td>64.000000</td>\n",
       "      <td>29.000000</td>\n",
       "      <td>7.000000</td>\n",
       "      <td>1.0</td>\n",
       "      <td>1.000000</td>\n",
       "      <td>1.000000</td>\n",
       "      <td>1.000000</td>\n",
       "      <td>1.000000</td>\n",
       "      <td>1.000000</td>\n",
       "      <td>1.000000</td>\n",
       "      <td>1.000000</td>\n",
       "      <td>1.000000</td>\n",
       "    </tr>\n",
       "  </tbody>\n",
       "</table>\n",
       "</div>"
      ],
      "text/plain": [
       "       Пол_мужской     Возраст  Стаж работы  Количество детей  Target  \\\n",
       "count   350.000000  350.000000   350.000000        350.000000   350.0   \n",
       "mean      0.731429   31.145714     6.942857          1.577143     1.0   \n",
       "std       0.443851   11.827263     6.722680          1.707406     0.0   \n",
       "min       0.000000   18.000000     0.000000          0.000000     1.0   \n",
       "25%       0.000000   22.000000     2.000000          0.000000     1.0   \n",
       "50%       1.000000   27.000000     5.000000          1.000000     1.0   \n",
       "75%       1.000000   38.000000    10.000000          3.000000     1.0   \n",
       "max       1.000000   64.000000    29.000000          7.000000     1.0   \n",
       "\n",
       "       Образование_высшее  Образование_несколько высших  \\\n",
       "count          350.000000                    350.000000   \n",
       "mean             0.431429                      0.028571   \n",
       "std              0.495985                      0.166837   \n",
       "min              0.000000                      0.000000   \n",
       "25%              0.000000                      0.000000   \n",
       "50%              0.000000                      0.000000   \n",
       "75%              1.000000                      0.000000   \n",
       "max              1.000000                      1.000000   \n",
       "\n",
       "       Образование_средне-специальное  Образование_среднее  \\\n",
       "count                      350.000000           350.000000   \n",
       "mean                         0.317143             0.222857   \n",
       "std                          0.466030             0.416759   \n",
       "min                          0.000000             0.000000   \n",
       "25%                          0.000000             0.000000   \n",
       "50%                          0.000000             0.000000   \n",
       "75%                          1.000000             0.000000   \n",
       "max                          1.000000             1.000000   \n",
       "\n",
       "       Семейное положение_женат / замужем  \\\n",
       "count                          350.000000   \n",
       "mean                             0.071429   \n",
       "std                              0.257908   \n",
       "min                              0.000000   \n",
       "25%                              0.000000   \n",
       "50%                              0.000000   \n",
       "75%                              0.000000   \n",
       "max                              1.000000   \n",
       "\n",
       "       Семейное положение_не женат / не замужем  \\\n",
       "count                                350.000000   \n",
       "mean                                   0.460000   \n",
       "std                                    0.499111   \n",
       "min                                    0.000000   \n",
       "25%                                    0.000000   \n",
       "50%                                    0.000000   \n",
       "75%                                    1.000000   \n",
       "max                                    1.000000   \n",
       "\n",
       "       Семейное положение_повторный брак  \\\n",
       "count                         350.000000   \n",
       "mean                            0.122857   \n",
       "std                             0.328743   \n",
       "min                             0.000000   \n",
       "25%                             0.000000   \n",
       "50%                             0.000000   \n",
       "75%                             0.000000   \n",
       "max                             1.000000   \n",
       "\n",
       "       Семейное положение_разведен / разведена  \n",
       "count                               350.000000  \n",
       "mean                                  0.345714  \n",
       "std                                   0.476281  \n",
       "min                                   0.000000  \n",
       "25%                                   0.000000  \n",
       "50%                                   0.000000  \n",
       "75%                                   1.000000  \n",
       "max                                   1.000000  "
      ]
     },
     "execution_count": 312,
     "metadata": {},
     "output_type": "execute_result"
    }
   ],
   "source": [
    "train_df[train_df['Target']!=0].describe()"
   ]
  },
  {
   "cell_type": "code",
   "execution_count": 313,
   "metadata": {},
   "outputs": [
    {
     "name": "stdout",
     "output_type": "stream",
     "text": [
      "Возраст                                    -0.088897\n",
      "Стаж работы                                -0.081678\n",
      "Семейное положение_повторный брак          -0.051897\n",
      "Образование_несколько высших               -0.031961\n",
      "Семейное положение_женат / замужем         -0.026451\n",
      "Образование_высшее                         -0.020308\n",
      "Количество детей                           -0.012815\n",
      "Образование_средне-специальное             -0.002738\n",
      "Семейное положение_разведен / разведена     0.024379\n",
      "Семейное положение_не женат / не замужем    0.034920\n",
      "Образование_среднее                         0.050781\n",
      "Пол_мужской                                 0.078541\n",
      "Name: Target, dtype: float64\n"
     ]
    }
   ],
   "source": [
    "correlations = train_df.corr()['Target'].sort_values()\n",
    "print(correlations[:-1])"
   ]
  },
  {
   "cell_type": "code",
   "execution_count": 314,
   "metadata": {},
   "outputs": [
    {
     "data": {
      "image/png": "[encoded data removed]",
      "text/plain": [
       "<Figure size 1224x360 with 1 Axes>"
      ]
     },
     "metadata": {
      "needs_background": "light"
     },
     "output_type": "display_data"
    },
    {
     "data": {
      "image/png": "[encoded data removed]",
      "text/plain": [
       "<Figure size 1224x360 with 1 Axes>"
      ]
     },
     "metadata": {
      "needs_background": "light"
     },
     "output_type": "display_data"
    }
   ],
   "source": [
    "sns.kdeplot(train_df.loc[train_df['Target'] == 0, 'Возраст'], label = 'Выплатил')\n",
    "sns.kdeplot(train_df.loc[train_df['Target'] == 1, 'Возраст'], label = 'Дефолт')\n",
    "plt.xlabel('Возраст'); plt.ylabel('Плотность'); plt.title('Распределение по возрасту');\n",
    "plt.show()\n",
    "\n",
    "sns.kdeplot(train_df.loc[train_df['Target'] == 0, 'Стаж работы'], label = 'Выплатил')\n",
    "sns.kdeplot(train_df.loc[train_df['Target'] == 1, 'Стаж работы'], label = 'Дефолт')\n",
    "plt.xlabel('Стаж работы'); plt.ylabel('Плотность'); plt.title('Распределение по стажу');\n",
    "plt.show()"
   ]
  },
  {
   "cell_type": "markdown",
   "metadata": {},
   "source": [
    "<b>Что можно заметить?</b> Все корреляции очень слабые, и не могут явно выделить вероятность дефолта. Однако, явная корреляция возраста и стажа работы при оценке вероятности выплатить кредит - есть. Также - мужчины чаще не выплачивают кредит, чем женщины. "
   ]
  },
  {
   "cell_type": "markdown",
   "metadata": {},
   "source": [
    "## PCA\n",
    "Попробуем уменьшить размерность данных и визуально оценить распределение классов с помощью PCA - метода главных компонент. "
   ]
  },
  {
   "cell_type": "code",
   "execution_count": 260,
   "metadata": {},
   "outputs": [],
   "source": [
    "train = train_df.drop(columns='Target')\n",
    "train_labels = train_df['Target']\n",
    "test = test_df"
   ]
  },
  {
   "cell_type": "code",
   "execution_count": 42,
   "metadata": {},
   "outputs": [
    {
     "name": "stdout",
     "output_type": "stream",
     "text": [
      "Количество информации о данных, объясняемое 1 главной компонентой: 0.80\n",
      "Количество информации о данных, объясняемое 2 главной компонентой: 0.18\n"
     ]
    },
    {
     "data": {
      "text/plain": [
       "<matplotlib.collections.PathCollection at 0x20902db80c8>"
      ]
     },
     "execution_count": 42,
     "metadata": {},
     "output_type": "execute_result"
    },
    {
     "data": {
      "image/png": "[encoded data removed]",
      "text/plain": [
       "<Figure size 1224x360 with 1 Axes>"
      ]
     },
     "metadata": {
      "needs_background": "light"
     },
     "output_type": "display_data"
    }
   ],
   "source": [
    "pca = PCA(n_components=2)\n",
    "pca.fit(train)\n",
    "print('Количество информации о данных, объясняемое 1 главной компонентой: %0.2f' % pca.explained_variance_ratio_[0])\n",
    "print('Количество информации о данных, объясняемое 2 главной компонентой: %0.2f' % pca.explained_variance_ratio_[1])\n",
    "train_pca = pca.transform(train)\n",
    "plt.scatter(train_pca[:,0][train_labels==0], train_pca[:,1][train_labels==0] ,alpha=0.2)\n",
    "plt.scatter(train_pca[:,0][train_labels==1], train_pca[:,1][train_labels==1] , marker='x' ,alpha=0.2)"
   ]
  },
  {
   "cell_type": "markdown",
   "metadata": {},
   "source": [
    "Несмотря на то, что метод главных компонент позволяет получить вектор, описывающий достаточно большое кол-во информации (>98%), видно что после такого преобразования существуют данные, имеющие для одних и тех же предикторов разные метки: крестик - для тех, кто ушел в дефолт, круг - для тех кто выплатил. Яркость метки помогает понять как часто данные попадали в эту точку - в данном преобразовании ушедшие в дефолт сконцентрировались на нижней стороне \"прямоугольника\". Такая концентрация помогает визуально подтвердить, что распределение у обоих классов - разные (хотя понять их и не поомогает)"
   ]
  },
  {
   "cell_type": "markdown",
   "metadata": {},
   "source": [
    "## Логистическая регрессия"
   ]
  },
  {
   "cell_type": "markdown",
   "metadata": {},
   "source": [
    "Начнем с логистической регрессии. Рассмотрим различные способы для ее использования. Для проверки будут использоваться 25% данных для обучения. "
   ]
  },
  {
   "cell_type": "markdown",
   "metadata": {},
   "source": [
    "Первым делом нормализуем данные. Затем отделим от обучающей выборки валидационную с учетом пропорций классов."
   ]
  },
  {
   "cell_type": "code",
   "execution_count": 162,
   "metadata": {},
   "outputs": [
    {
     "name": "stdout",
     "output_type": "stream",
     "text": [
      "Training data shape:  (4460, 12)\n",
      "Testing data shape:  (1500, 12)\n"
     ]
    }
   ],
   "source": [
    "features = list(train.columns)\n",
    "scaler = MinMaxScaler(feature_range = (0, 1))\n",
    "\n",
    "scaler.fit(train)\n",
    "train = scaler.transform(train)\n",
    "test = scaler.transform(test)\n",
    "\n",
    "print('Training data shape: ', train.shape)\n",
    "print('Testing data shape: ', test.shape)"
   ]
  },
  {
   "cell_type": "code",
   "execution_count": 163,
   "metadata": {},
   "outputs": [],
   "source": [
    "X_train, X_test, y_train, y_test = train_test_split(train, train_labels, random_state =41, stratify = train_labels)"
   ]
  },
  {
   "cell_type": "markdown",
   "metadata": {},
   "source": [
    "Обучим модели с гиперпараметрами по умолчанию. Рассмотрим результаты на метрике <b>Accuracy</b> - вероятности правильно предсказать класс."
   ]
  },
  {
   "cell_type": "code",
   "execution_count": 164,
   "metadata": {},
   "outputs": [
    {
     "name": "stdout",
     "output_type": "stream",
     "text": [
      "Threshhold = 0.000, accuracy = 0.0780\n",
      "Threshhold = 0.050, accuracy = 0.2924\n",
      "Threshhold = 0.100, accuracy = 0.7489\n",
      "Threshhold = 0.150, accuracy = 0.9031\n",
      "Threshhold = 0.200, accuracy = 0.9220\n",
      "Threshhold = 0.250, accuracy = 0.9220\n",
      "Threshhold = 0.300, accuracy = 0.9220\n",
      "Threshhold = 0.350, accuracy = 0.9220\n",
      "Threshhold = 0.400, accuracy = 0.9220\n",
      "Threshhold = 0.450, accuracy = 0.9220\n",
      "Threshhold = 0.500, accuracy = 0.9220\n",
      "Threshhold = 0.550, accuracy = 0.9220\n",
      "Threshhold = 0.600, accuracy = 0.9220\n",
      "Threshhold = 0.650, accuracy = 0.9220\n",
      "Threshhold = 0.700, accuracy = 0.9220\n",
      "Threshhold = 0.750, accuracy = 0.9220\n",
      "Threshhold = 0.800, accuracy = 0.9220\n",
      "Threshhold = 0.850, accuracy = 0.9220\n",
      "Threshhold = 0.900, accuracy = 0.9220\n",
      "Threshhold = 0.950, accuracy = 0.9220\n",
      "Threshhold = 1.000, accuracy = 0.9220\n"
     ]
    }
   ],
   "source": [
    "log_reg = LogisticRegression(C=0.1)\n",
    "log_reg.fit(X_train, y_train)\n",
    "\n",
    "valid_prob_pred = log_reg.predict_proba(X_test)[:,1]\n",
    "train_prob_pred = log_reg.predict_proba(X_train)[:,1]\n",
    "accuracy = []\n",
    "for i in range(21):\n",
    "    threshold = 0.05*i\n",
    "    predict = np.array(valid_prob_pred > threshold)\n",
    "    accuracy.append([threshold, accuracy_score(predict , y_test)])\n",
    "\n",
    "for i in range(21):\n",
    "    print('Threshhold = %0.3f' %accuracy[i][0]+ ', accuracy = %0.4f'%accuracy[i][1])"
   ]
  },
  {
   "cell_type": "markdown",
   "metadata": {},
   "source": [
    "При <b>threshold = 0.0 </b> мы видим 0.087 верных ответов,  при <b>threshold = 0.2 </b> видим 1-0.087 = 0.913 правильных ответов, и это значение  с ростом threshold не меняется. Таким образом по метке <b>Accuracy</b> - наилучший результат достигается для константной модели, утверждающей, что все выплатят кредит."
   ]
  },
  {
   "cell_type": "markdown",
   "metadata": {},
   "source": [
    "В заданиях подобного рода уместнее использовать <b>ROC AUC</b> метрику, учитывающей значение <b>True positive rate (TPR)</b> и <b>False positive rate (FPR)</b>, вычисляемых по формуле:\n",
    " $$ TPR = \\frac{TP}{TP + FN}, FPR = \\frac{FP}{FP + TN} $$\n",
    "<b>FPR</b> определяет долю ошибок допущенных моделью, <b>TPR</b> определяет долю выявленных моделью дефолтов. Производной от этих двух метрик и является <b>ROC AUC</b> - площадь под кривой, построенной по значениям <b>TPR</b> и <b>FPR</b>."
   ]
  },
  {
   "cell_type": "code",
   "execution_count": 165,
   "metadata": {},
   "outputs": [],
   "source": [
    "def Show_ROC(y_test, prob_pred,  label = '', plot=True):\n",
    "    fpr, tpr, threshold = roc_curve(y_test, prob_pred)\n",
    "    roc_auc = auc(fpr, tpr)\n",
    "\n",
    "    if plot:\n",
    "        plt.plot(fpr, tpr, color='darkorange', label='ROC curve (area = %0.5f)' % roc_auc)\n",
    "        plt.plot([0, 1], [0, 1], color='navy', linestyle='--')\n",
    "        plt.xlim([0.0, 1.0])\n",
    "        plt.ylim([0.0, 1.05])\n",
    "\n",
    "        plt.xlabel('False Positive Rate')\n",
    "        plt.ylabel('True Positive Rate')\n",
    "        plt.title('ROC '+label)\n",
    "        plt.legend(loc=\"lower right\")\n",
    "        plt.show()\n",
    "\n",
    "        plt.plot(threshold[1:], tpr[1:], label = 'True Positive Rate')\n",
    "        plt.plot(threshold[1:], fpr[1:], label = 'False Positive Rate')\n",
    "        plt.ylabel('False Positive and True Positive Rate')\n",
    "        plt.xlabel('threshold')\n",
    "        plt.legend(loc=\"upper right\")\n",
    "        plt.show()   \n",
    "    else: \n",
    "        print('ROC curve (area = %0.5f)' % roc_auc)"
   ]
  },
  {
   "cell_type": "code",
   "execution_count": 166,
   "metadata": {},
   "outputs": [
    {
     "data": {
      "image/png": "[encoded data removed]",
      "text/plain": [
       "<Figure size 1224x360 with 1 Axes>"
      ]
     },
     "metadata": {
      "needs_background": "light"
     },
     "output_type": "display_data"
    },
    {
     "data": {
      "image/png": "[encoded data removed]",
      "text/plain": [
       "<Figure size 1224x360 with 1 Axes>"
      ]
     },
     "metadata": {
      "needs_background": "light"
     },
     "output_type": "display_data"
    },
    {
     "data": {
      "image/png": "[encoded data removed]",
      "text/plain": [
       "<Figure size 1224x360 with 1 Axes>"
      ]
     },
     "metadata": {
      "needs_background": "light"
     },
     "output_type": "display_data"
    },
    {
     "data": {
      "image/png": "[encoded data removed]",
      "text/plain": [
       "<Figure size 1224x360 with 1 Axes>"
      ]
     },
     "metadata": {
      "needs_background": "light"
     },
     "output_type": "display_data"
    },
    {
     "data": {
      "image/png": "[encoded data removed]",
      "text/plain": [
       "<Figure size 1224x360 with 1 Axes>"
      ]
     },
     "metadata": {
      "needs_background": "light"
     },
     "output_type": "display_data"
    }
   ],
   "source": [
    "Show_ROC(y_test, valid_prob_pred, 'Validation data')\n",
    "Show_ROC(y_train, train_prob_pred, 'Train data')\n",
    "disp = plot_precision_recall_curve(log_reg, X_test, y_test)"
   ]
  },
  {
   "cell_type": "markdown",
   "metadata": {},
   "source": [
    "Значение <b>ROC AUC</b> может изменяться от 0 до 1. Чем ближе к 1 или 0, тем лучше модель объясняет поведение данных. В нашем случае мы получили значение 0.67 (указано на первом графике). На втором графике можно увидеть нагляднее как изменяется точность. \n",
    "\n",
    "Для интереса можно рассмотреть также метрики <b>Precision</b>  (точность) и <b>Recall</b> (полнота)"
   ]
  },
  {
   "cell_type": "markdown",
   "metadata": {},
   "source": [
    "Попробуем также использовать L1 регуляризацию и различный вес классов, для повышения точности."
   ]
  },
  {
   "cell_type": "code",
   "execution_count": 167,
   "metadata": {},
   "outputs": [
    {
     "name": "stdout",
     "output_type": "stream",
     "text": [
      "ROC curve (area = 0.65738)\n",
      "ROC curve (area = 0.65090)\n"
     ]
    }
   ],
   "source": [
    "log_reg = LogisticRegression(penalty='l1', C=0.1, solver='liblinear')\n",
    "log_reg.fit(X_train, y_train)\n",
    "\n",
    "valid_prob_pred = log_reg.predict_proba(X_test)[:,1]\n",
    "train_prob_pred = log_reg.predict_proba(X_train)[:,1]\n",
    "\n",
    "Show_ROC(y_test, valid_prob_pred, 'Validation data', False)\n",
    "Show_ROC(y_train, train_prob_pred, 'Train data', False)"
   ]
  },
  {
   "cell_type": "code",
   "execution_count": 168,
   "metadata": {},
   "outputs": [
    {
     "data": {
      "text/html": [
       "<div>\n",
       "<style scoped>\n",
       "    .dataframe tbody tr th:only-of-type {\n",
       "        vertical-align: middle;\n",
       "    }\n",
       "\n",
       "    .dataframe tbody tr th {\n",
       "        vertical-align: top;\n",
       "    }\n",
       "\n",
       "    .dataframe thead th {\n",
       "        text-align: right;\n",
       "    }\n",
       "</style>\n",
       "<table border=\"1\" class=\"dataframe\">\n",
       "  <thead>\n",
       "    <tr style=\"text-align: right;\">\n",
       "      <th></th>\n",
       "      <th>0</th>\n",
       "    </tr>\n",
       "  </thead>\n",
       "  <tbody>\n",
       "    <tr>\n",
       "      <th>Пол_мужской</th>\n",
       "      <td>0.365851</td>\n",
       "    </tr>\n",
       "    <tr>\n",
       "      <th>Возраст</th>\n",
       "      <td>-0.688778</td>\n",
       "    </tr>\n",
       "    <tr>\n",
       "      <th>Стаж работы</th>\n",
       "      <td>-0.062142</td>\n",
       "    </tr>\n",
       "    <tr>\n",
       "      <th>Количество детей</th>\n",
       "      <td>0.000000</td>\n",
       "    </tr>\n",
       "    <tr>\n",
       "      <th>Образование_высшее</th>\n",
       "      <td>0.000000</td>\n",
       "    </tr>\n",
       "    <tr>\n",
       "      <th>Образование_несколько высших</th>\n",
       "      <td>0.000000</td>\n",
       "    </tr>\n",
       "    <tr>\n",
       "      <th>Образование_средне-специальное</th>\n",
       "      <td>0.000000</td>\n",
       "    </tr>\n",
       "    <tr>\n",
       "      <th>Образование_среднее</th>\n",
       "      <td>0.249475</td>\n",
       "    </tr>\n",
       "    <tr>\n",
       "      <th>Семейное положение_женат / замужем</th>\n",
       "      <td>0.000000</td>\n",
       "    </tr>\n",
       "    <tr>\n",
       "      <th>Семейное положение_не женат / не замужем</th>\n",
       "      <td>0.009500</td>\n",
       "    </tr>\n",
       "    <tr>\n",
       "      <th>Семейное положение_повторный брак</th>\n",
       "      <td>-0.274474</td>\n",
       "    </tr>\n",
       "    <tr>\n",
       "      <th>Семейное положение_разведен / разведена</th>\n",
       "      <td>0.000000</td>\n",
       "    </tr>\n",
       "  </tbody>\n",
       "</table>\n",
       "</div>"
      ],
      "text/plain": [
       "                                                 0\n",
       "Пол_мужской                               0.365851\n",
       "Возраст                                  -0.688778\n",
       "Стаж работы                              -0.062142\n",
       "Количество детей                          0.000000\n",
       "Образование_высшее                        0.000000\n",
       "Образование_несколько высших              0.000000\n",
       "Образование_средне-специальное            0.000000\n",
       "Образование_среднее                       0.249475\n",
       "Семейное положение_женат / замужем        0.000000\n",
       "Семейное положение_не женат / не замужем  0.009500\n",
       "Семейное положение_повторный брак        -0.274474\n",
       "Семейное положение_разведен / разведена   0.000000"
      ]
     },
     "execution_count": 168,
     "metadata": {},
     "output_type": "execute_result"
    }
   ],
   "source": [
    "l1_coef = pd.DataFrame(log_reg.coef_.reshape(-1,1), index=features)\n",
    "l1_coef"
   ]
  },
  {
   "cell_type": "code",
   "execution_count": 169,
   "metadata": {},
   "outputs": [
    {
     "name": "stdout",
     "output_type": "stream",
     "text": [
      "ROC curve (area = 0.66135)\n",
      "ROC curve (area = 0.66163)\n"
     ]
    }
   ],
   "source": [
    "log_reg = LogisticRegression(penalty='l1', C=0.1, class_weight='balanced',solver='liblinear')\n",
    "log_reg.fit(X_train, y_train)\n",
    "\n",
    "valid_prob_pred = log_reg.predict_proba(X_test)[:,1]\n",
    "train_prob_pred = log_reg.predict_proba(X_train)[:,1]\n",
    "\n",
    "Show_ROC(y_test, valid_prob_pred, 'Validation data', False)\n",
    "Show_ROC(y_train, train_prob_pred, 'Train data', False)"
   ]
  },
  {
   "cell_type": "code",
   "execution_count": 158,
   "metadata": {},
   "outputs": [
    {
     "data": {
      "text/html": [
       "<div>\n",
       "<style scoped>\n",
       "    .dataframe tbody tr th:only-of-type {\n",
       "        vertical-align: middle;\n",
       "    }\n",
       "\n",
       "    .dataframe tbody tr th {\n",
       "        vertical-align: top;\n",
       "    }\n",
       "\n",
       "    .dataframe thead th {\n",
       "        text-align: right;\n",
       "    }\n",
       "</style>\n",
       "<table border=\"1\" class=\"dataframe\">\n",
       "  <thead>\n",
       "    <tr style=\"text-align: right;\">\n",
       "      <th></th>\n",
       "      <th>0</th>\n",
       "    </tr>\n",
       "  </thead>\n",
       "  <tbody>\n",
       "    <tr>\n",
       "      <th>Пол_мужской</th>\n",
       "      <td>0.479932</td>\n",
       "    </tr>\n",
       "    <tr>\n",
       "      <th>Возраст</th>\n",
       "      <td>-0.703717</td>\n",
       "    </tr>\n",
       "    <tr>\n",
       "      <th>Стаж работы</th>\n",
       "      <td>-1.143025</td>\n",
       "    </tr>\n",
       "    <tr>\n",
       "      <th>Количество детей</th>\n",
       "      <td>-0.196473</td>\n",
       "    </tr>\n",
       "    <tr>\n",
       "      <th>Образование_высшее</th>\n",
       "      <td>0.000000</td>\n",
       "    </tr>\n",
       "    <tr>\n",
       "      <th>Образование_несколько высших</th>\n",
       "      <td>-0.429391</td>\n",
       "    </tr>\n",
       "    <tr>\n",
       "      <th>Образование_средне-специальное</th>\n",
       "      <td>0.000000</td>\n",
       "    </tr>\n",
       "    <tr>\n",
       "      <th>Образование_среднее</th>\n",
       "      <td>0.314616</td>\n",
       "    </tr>\n",
       "    <tr>\n",
       "      <th>Семейное положение_женат / замужем</th>\n",
       "      <td>-0.062968</td>\n",
       "    </tr>\n",
       "    <tr>\n",
       "      <th>Семейное положение_не женат / не замужем</th>\n",
       "      <td>0.237031</td>\n",
       "    </tr>\n",
       "    <tr>\n",
       "      <th>Семейное положение_повторный брак</th>\n",
       "      <td>-0.295745</td>\n",
       "    </tr>\n",
       "    <tr>\n",
       "      <th>Семейное положение_разведен / разведена</th>\n",
       "      <td>0.228566</td>\n",
       "    </tr>\n",
       "  </tbody>\n",
       "</table>\n",
       "</div>"
      ],
      "text/plain": [
       "                                                 0\n",
       "Пол_мужской                               0.479932\n",
       "Возраст                                  -0.703717\n",
       "Стаж работы                              -1.143025\n",
       "Количество детей                         -0.196473\n",
       "Образование_высшее                        0.000000\n",
       "Образование_несколько высших             -0.429391\n",
       "Образование_средне-специальное            0.000000\n",
       "Образование_среднее                       0.314616\n",
       "Семейное положение_женат / замужем       -0.062968\n",
       "Семейное положение_не женат / не замужем  0.237031\n",
       "Семейное положение_повторный брак        -0.295745\n",
       "Семейное положение_разведен / разведена   0.228566"
      ]
     },
     "execution_count": 158,
     "metadata": {},
     "output_type": "execute_result"
    }
   ],
   "source": [
    "l1_coef = pd.DataFrame(log_reg.coef_.reshape(-1,1), index=features)\n",
    "l1_coef"
   ]
  },
  {
   "cell_type": "code",
   "execution_count": 170,
   "metadata": {},
   "outputs": [
    {
     "name": "stdout",
     "output_type": "stream",
     "text": [
      "ROC curve (area = 0.66611)\n",
      "ROC curve (area = 0.66322)\n"
     ]
    }
   ],
   "source": [
    "log_reg = LogisticRegression(penalty='l2', C=0.1, class_weight='balanced')\n",
    "log_reg.fit(X_train, y_train)\n",
    "\n",
    "valid_prob_pred = log_reg.predict_proba(X_test)[:,1]\n",
    "train_prob_pred = log_reg.predict_proba(X_train)[:,1]\n",
    "\n",
    "Show_ROC(y_test, valid_prob_pred, 'Validation data', False)\n",
    "Show_ROC(y_train, train_prob_pred, 'Train data', False)"
   ]
  },
  {
   "cell_type": "markdown",
   "metadata": {},
   "source": [
    "## Выводы после использования логистической регрессии\n",
    "Основная идея логистической регрессии заключается в том, что пространство исходных значений может быть разделено линейной границей. После PCA было видно, что в двумерной проекции данных эффективного способа разделить данные линией не было. Таким образом использование линейной классификации эффективного разделения не показало\n",
    "\n",
    "Это видно на примере различных регуляризаций (L1, L2) - повышение доли выявления дефолтных случае влечет увеличение доли ошибок. Использование L1 регуляризации определило признаки <b>повторного брака, среднего образования, стажа работы, возраста</b> и <b>мужского пола </b> как наиболее важными при прогнозе дефолта (такова черта L1 регуляризаций) без учета баланса классов. \n",
    "\n",
    "При этом с введением баланса классов при обучении, обнуления признаков просиходит только у  <b>наличия одного высшего </b> и <b>наличия только средне-специального образования</b>. "
   ]
  },
  {
   "cell_type": "markdown",
   "metadata": {},
   "source": [
    "## Добавление признаков"
   ]
  },
  {
   "cell_type": "markdown",
   "metadata": {},
   "source": [
    "Построению нелинейных разделяющих поверхностей может помочь использование полиномиальных признаков. Расмотрим корреляции подобных агрегированных признаков с полем <b>Target</b>."
   ]
  },
  {
   "cell_type": "code",
   "execution_count": 111,
   "metadata": {},
   "outputs": [],
   "source": [
    "poly = PolynomialFeatures(degree=3)\n",
    "poly.fit(train_df.drop(columns='Target'))\n",
    "train_poly = poly.transform(train_df.drop(columns='Target'))"
   ]
  },
  {
   "cell_type": "code",
   "execution_count": 114,
   "metadata": {},
   "outputs": [
    {
     "name": "stdout",
     "output_type": "stream",
     "text": [
      "x1 x3      -0.040265\n",
      "x1^2 x3    -0.037921\n",
      "x3         -0.033883\n",
      "x2 x3      -0.032914\n",
      "x1 x2 x3   -0.030874\n",
      "x3 x4 x8   -0.029007\n",
      "x2 x8^2    -0.028829\n",
      "x2 x8      -0.028829\n",
      "x2 x3 x8   -0.027718\n",
      "x1 x3^2    -0.026980\n",
      "Name: Target, dtype: float64\n"
     ]
    }
   ],
   "source": [
    "train_poly_df = pd.DataFrame(train_poly, \n",
    "                             columns = poly.get_feature_names())\n",
    "\n",
    "train_poly_df['Target'] = train_labels\n",
    "\n",
    "poly_corrs = train_poly_df.corr()['Target'].sort_values()\n",
    "\n",
    "print(poly_corrs.head(10))"
   ]
  },
  {
   "cell_type": "code",
   "execution_count": 192,
   "metadata": {},
   "outputs": [],
   "source": [
    "X_train, X_test, y_train, y_test = train_test_split(train_poly, train_labels, random_state =41)"
   ]
  },
  {
   "cell_type": "code",
   "execution_count": 178,
   "metadata": {},
   "outputs": [
    {
     "name": "stdout",
     "output_type": "stream",
     "text": [
      "ROC curve (area = 0.62527)\n",
      "ROC curve (area = 0.73484)\n"
     ]
    }
   ],
   "source": [
    "log_reg = LogisticRegression(penalty='l1', class_weight='balanced', C=0.1, solver='liblinear')\n",
    "log_reg.fit(X_train, y_train)\n",
    "\n",
    "valid_prob_pred = log_reg.predict_proba(X_test)[:,1]\n",
    "train_prob_pred = log_reg.predict_proba(X_train)[:,1]\n",
    "\n",
    "Show_ROC(y_test, valid_prob_pred, 'Validation data', False)\n",
    "Show_ROC(y_train, train_prob_pred, 'Train data', False)"
   ]
  },
  {
   "cell_type": "markdown",
   "metadata": {},
   "source": [
    "Увеличение количества признаков часто ведет к переобучению, поэтому стоит уделить внимание способу и параметрам регуляризации. Попробуем подобрать наилучшие параметры."
   ]
  },
  {
   "cell_type": "code",
   "execution_count": 180,
   "metadata": {},
   "outputs": [
    {
     "name": "stderr",
     "output_type": "stream",
     "text": [
      "C:\\Anaconda3\\lib\\site-packages\\sklearn\\linear_model\\_logistic.py:764: ConvergenceWarning: lbfgs failed to converge (status=1):\n",
      "STOP: TOTAL NO. of ITERATIONS REACHED LIMIT.\n",
      "\n",
      "Increase the number of iterations (max_iter) or scale the data as shown in:\n",
      "    https://scikit-learn.org/stable/modules/preprocessing.html\n",
      "Please also refer to the documentation for alternative solver options:\n",
      "    https://scikit-learn.org/stable/modules/linear_model.html#logistic-regression\n",
      "  extra_warning_msg=_LOGISTIC_SOLVER_CONVERGENCE_MSG)\n"
     ]
    },
    {
     "data": {
      "text/plain": [
       "LogisticRegressionCV(Cs=array([1.00000000e-02, 1.12332403e-02, 1.26185688e-02, 1.41747416e-02,\n",
       "       1.59228279e-02, 1.78864953e-02, 2.00923300e-02, 2.25701972e-02,\n",
       "       2.53536449e-02, 2.84803587e-02, 3.19926714e-02, 3.59381366e-02,\n",
       "       4.03701726e-02, 4.53487851e-02, 5.09413801e-02, 5.72236766e-02,\n",
       "       6.42807312e-02, 7.22080902e-02, 8.11130831e-02, 9.11162756e-02,\n",
       "       1.02353102e-01, 1.14...\n",
       "       1.09749877e+02, 1.23284674e+02, 1.38488637e+02, 1.55567614e+02,\n",
       "       1.74752840e+02, 1.96304065e+02, 2.20513074e+02, 2.47707636e+02,\n",
       "       2.78255940e+02, 3.12571585e+02, 3.51119173e+02, 3.94420606e+02,\n",
       "       4.43062146e+02, 4.97702356e+02, 5.59081018e+02, 6.28029144e+02,\n",
       "       7.05480231e+02, 7.92482898e+02, 8.90215085e+02, 1.00000000e+03]),\n",
       "                     class_weight='balanced',\n",
       "                     cv=StratifiedKFold(n_splits=5, random_state=17, shuffle=True),\n",
       "                     n_jobs=-1)"
      ]
     },
     "execution_count": 180,
     "metadata": {},
     "output_type": "execute_result"
    }
   ],
   "source": [
    "skf = StratifiedKFold(n_splits=5, shuffle=True, random_state=17)\n",
    "\n",
    "c_values = np.logspace(-2, 3, 100)\n",
    "\n",
    "logit_searcher_l2 = LogisticRegressionCV(Cs=c_values,penalty='l2', cv=skf, class_weight='balanced', n_jobs=-1)\n",
    "logit_searcher_l2.fit(X_train, y_train)"
   ]
  },
  {
   "cell_type": "code",
   "execution_count": 193,
   "metadata": {},
   "outputs": [
    {
     "name": "stdout",
     "output_type": "stream",
     "text": [
      "ROC curve (area = 0.64322)\n",
      "ROC curve (area = 0.69892)\n"
     ]
    }
   ],
   "source": [
    "valid_prob_pred = logit_searcher_l2.predict_proba(X_test)[:,1]\n",
    "train_prob_pred = logit_searcher_l2.predict_proba(X_train)[:,1]\n",
    "\n",
    "Show_ROC(y_test, valid_prob_pred, 'Validation data', False)\n",
    "Show_ROC(y_train, train_prob_pred, 'Train data', False)"
   ]
  },
  {
   "cell_type": "code",
   "execution_count": 186,
   "metadata": {},
   "outputs": [
    {
     "name": "stderr",
     "output_type": "stream",
     "text": [
      "[Parallel(n_jobs=-1)]: Using backend LokyBackend with 12 concurrent workers.\n",
      "[Parallel(n_jobs=-1)]: Done   5 out of   5 | elapsed: 19.8min finished\n",
      "C:\\Anaconda3\\lib\\site-packages\\sklearn\\svm\\_base.py:977: ConvergenceWarning: Liblinear failed to converge, increase the number of iterations.\n",
      "  \"the number of iterations.\", ConvergenceWarning)\n"
     ]
    },
    {
     "data": {
      "text/plain": [
       "LogisticRegressionCV(Cs=array([1.00000000e-02, 1.12332403e-02, 1.26185688e-02, 1.41747416e-02,\n",
       "       1.59228279e-02, 1.78864953e-02, 2.00923300e-02, 2.25701972e-02,\n",
       "       2.53536449e-02, 2.84803587e-02, 3.19926714e-02, 3.59381366e-02,\n",
       "       4.03701726e-02, 4.53487851e-02, 5.09413801e-02, 5.72236766e-02,\n",
       "       6.42807312e-02, 7.22080902e-02, 8.11130831e-02, 9.11162756e-02,\n",
       "       1.02353102e-01, 1.14...\n",
       "       1.74752840e+02, 1.96304065e+02, 2.20513074e+02, 2.47707636e+02,\n",
       "       2.78255940e+02, 3.12571585e+02, 3.51119173e+02, 3.94420606e+02,\n",
       "       4.43062146e+02, 4.97702356e+02, 5.59081018e+02, 6.28029144e+02,\n",
       "       7.05480231e+02, 7.92482898e+02, 8.90215085e+02, 1.00000000e+03]),\n",
       "                     class_weight='balanced',\n",
       "                     cv=StratifiedKFold(n_splits=5, random_state=17, shuffle=True),\n",
       "                     n_jobs=-1, penalty='l1', solver='liblinear', verbose=1)"
      ]
     },
     "execution_count": 186,
     "metadata": {},
     "output_type": "execute_result"
    }
   ],
   "source": [
    "skf = StratifiedKFold(n_splits=5, shuffle=True, random_state=17)\n",
    "\n",
    "c_values = np.logspace(-2, 3, 100)\n",
    "\n",
    "logit_searcher_l1 = LogisticRegressionCV(Cs=c_values,penalty='l1', cv=skf, class_weight='balanced', solver='liblinear', verbose=1, n_jobs=-1)\n",
    "logit_searcher_l1.fit(X_train, y_train)"
   ]
  },
  {
   "cell_type": "code",
   "execution_count": 194,
   "metadata": {},
   "outputs": [
    {
     "name": "stdout",
     "output_type": "stream",
     "text": [
      "ROC curve (area = 0.58701)\n",
      "ROC curve (area = 0.76775)\n"
     ]
    }
   ],
   "source": [
    "valid_prob_pred = logit_searcher_l1.predict_proba(X_test)[:,1]\n",
    "train_prob_pred = logit_searcher_l1.predict_proba(X_train)[:,1]\n",
    "\n",
    "Show_ROC(y_test, valid_prob_pred, 'Validation data', False)\n",
    "Show_ROC(y_train, train_prob_pred, 'Train data', False)"
   ]
  },
  {
   "cell_type": "markdown",
   "metadata": {},
   "source": [
    "Все корреляции очень слабые и точность модели на валидации не выросла. Изменения в точности на обучающей выборке - следствие увеличение параметров и не говорит о повышении эффективности."
   ]
  },
  {
   "cell_type": "code",
   "execution_count": 396,
   "metadata": {},
   "outputs": [],
   "source": [
    "log_reg = LogisticRegression(penalty='l2', C=0.1, class_weight='balanced')\n",
    "log_reg.fit(train, train_labels)\n",
    "\n",
    "LogReg_result = pd.DataFrame(log_reg.predict_proba(test)[:,1])\n",
    "\n",
    "LogReg_result.columns = ['Target']\n",
    "LogReg_result.to_excel('Logistic.xlsx')"
   ]
  },
  {
   "cell_type": "markdown",
   "metadata": {},
   "source": [
    "Попробуем провести классификацию с помощью еще нескольких моделей - <b>нелинейных SVM</b>, <b>случайного леса</b> и <b>градиентного бустинга</b>. "
   ]
  },
  {
   "cell_type": "markdown",
   "metadata": {},
   "source": [
    "## SVM"
   ]
  },
  {
   "cell_type": "code",
   "execution_count": 338,
   "metadata": {},
   "outputs": [],
   "source": [
    "X_train, X_test, y_train, y_test = train_test_split(train, train_labels, random_state =41, stratify = train_labels)"
   ]
  },
  {
   "cell_type": "code",
   "execution_count": 379,
   "metadata": {},
   "outputs": [
    {
     "data": {
      "image/png": "[encoded data removed]",
      "text/plain": [
       "<Figure size 1224x360 with 1 Axes>"
      ]
     },
     "metadata": {
      "needs_background": "light"
     },
     "output_type": "display_data"
    },
    {
     "data": {
      "image/png": "[encoded data removed]",
      "text/plain": [
       "<Figure size 1224x360 with 1 Axes>"
      ]
     },
     "metadata": {
      "needs_background": "light"
     },
     "output_type": "display_data"
    },
    {
     "data": {
      "image/png": "[encoded data removed]",
      "text/plain": [
       "<Figure size 1224x360 with 1 Axes>"
      ]
     },
     "metadata": {
      "needs_background": "light"
     },
     "output_type": "display_data"
    },
    {
     "data": {
      "image/png": "[encoded data removed]",
      "text/plain": [
       "<Figure size 1224x360 with 1 Axes>"
      ]
     },
     "metadata": {
      "needs_background": "light"
     },
     "output_type": "display_data"
    }
   ],
   "source": [
    "SVM = svm.SVC(kernel='rbf', C =0.1, gamma='auto', class_weight='balanced', probability=True)\n",
    "SVM.fit(X_train, y_train)\n",
    "Show_ROC(y_test, SVM.predict_proba(X_test)[:, 1], \"Validation data\")\n",
    "Show_ROC(y_train, SVM.predict_proba(X_train)[:, 1], \"Train data\")"
   ]
  },
  {
   "cell_type": "code",
   "execution_count": 384,
   "metadata": {},
   "outputs": [
    {
     "data": {
      "text/plain": [
       "SVC(C=0.1, class_weight='balanced', gamma='auto', probability=True)"
      ]
     },
     "execution_count": 384,
     "metadata": {},
     "output_type": "execute_result"
    }
   ],
   "source": [
    "SVM = svm.SVC(kernel='rbf', C =0.1, gamma='auto', class_weight='balanced', probability=True)\n",
    "SVM.fit(train, train_labels)\n"
   ]
  },
  {
   "cell_type": "code",
   "execution_count": 391,
   "metadata": {},
   "outputs": [],
   "source": [
    "svm_result = pd.DataFrame(SVM.predict_proba(test)[:, 1].reshape(-1,1))\n",
    "svm_result.columns = ['Target']\n",
    "svm_result.to_excel('svm.xlsx')"
   ]
  },
  {
   "cell_type": "markdown",
   "metadata": {},
   "source": [
    "## Random forest"
   ]
  },
  {
   "cell_type": "code",
   "execution_count": 357,
   "metadata": {},
   "outputs": [
    {
     "name": "stderr",
     "output_type": "stream",
     "text": [
      "[Parallel(n_jobs=-1)]: Using backend ThreadingBackend with 12 concurrent workers.\n",
      "[Parallel(n_jobs=-1)]: Done  10 out of  10 | elapsed:    0.0s finished\n",
      "[Parallel(n_jobs=10)]: Using backend ThreadingBackend with 10 concurrent workers.\n",
      "[Parallel(n_jobs=10)]: Done   2 out of  10 | elapsed:    0.0s remaining:    0.0s\n",
      "[Parallel(n_jobs=10)]: Done  10 out of  10 | elapsed:    0.0s finished\n"
     ]
    },
    {
     "name": "stdout",
     "output_type": "stream",
     "text": [
      "ROC curve (area = 0.64294)\n",
      "ROC curve (area = 0.71667)\n"
     ]
    },
    {
     "name": "stderr",
     "output_type": "stream",
     "text": [
      "[Parallel(n_jobs=10)]: Using backend ThreadingBackend with 10 concurrent workers.\n",
      "[Parallel(n_jobs=10)]: Done   2 out of  10 | elapsed:    0.0s remaining:    0.0s\n",
      "[Parallel(n_jobs=10)]: Done  10 out of  10 | elapsed:    0.0s finished\n"
     ]
    }
   ],
   "source": [
    "random_forest = RandomForestClassifier(n_estimators = 10,  random_state = 41,max_depth=4,\n",
    "                                       verbose = 1, n_jobs = -1)\n",
    "\n",
    "random_forest.fit(X_train, y_train)\n",
    "train_prob_pred = random_forest.predict_proba(X_train)[:, 1]\n",
    "valid_prob_pred = random_forest.predict_proba(X_test)[:, 1]\n",
    "\n",
    "Show_ROC(y_test, valid_prob_pred, 'Validation data', False)\n",
    "Show_ROC(y_train, train_prob_pred, 'Train data', False)"
   ]
  },
  {
   "cell_type": "code",
   "execution_count": 373,
   "metadata": {},
   "outputs": [
    {
     "name": "stdout",
     "output_type": "stream",
     "text": [
      "Training until validation scores don't improve for 200 rounds\n"
     ]
    },
    {
     "name": "stderr",
     "output_type": "stream",
     "text": [
      "[Parallel(n_jobs=-1)]: Using backend ThreadingBackend with 12 concurrent workers.\n",
      "[Parallel(n_jobs=-1)]: Done   8 out of  15 | elapsed:    0.0s remaining:    0.0s\n",
      "[Parallel(n_jobs=-1)]: Done  15 out of  15 | elapsed:    0.0s finished\n"
     ]
    },
    {
     "name": "stdout",
     "output_type": "stream",
     "text": [
      "[200]\ttrain's auc: 0.960978\ttrain's binary_logloss: 0.335399\tvalid's auc: 0.623418\tvalid's binary_logloss: 0.48099\n",
      "Early stopping, best iteration is:\n",
      "[5]\ttrain's auc: 0.768364\ttrain's binary_logloss: 0.654575\tvalid's auc: 0.67394\tvalid's binary_logloss: 0.65919\n",
      "Training until validation scores don't improve for 200 rounds\n"
     ]
    },
    {
     "name": "stderr",
     "output_type": "stream",
     "text": [
      "[Parallel(n_jobs=-1)]: Using backend ThreadingBackend with 12 concurrent workers.\n",
      "[Parallel(n_jobs=-1)]: Done   8 out of  15 | elapsed:    0.0s remaining:    0.0s\n",
      "[Parallel(n_jobs=-1)]: Done  15 out of  15 | elapsed:    0.0s finished\n"
     ]
    },
    {
     "name": "stdout",
     "output_type": "stream",
     "text": [
      "[200]\ttrain's auc: 0.958129\ttrain's binary_logloss: 0.337392\tvalid's auc: 0.630527\tvalid's binary_logloss: 0.481249\n",
      "Early stopping, best iteration is:\n",
      "[4]\ttrain's auc: 0.75222\ttrain's binary_logloss: 0.661146\tvalid's auc: 0.656448\tvalid's binary_logloss: 0.663719\n",
      "Training until validation scores don't improve for 200 rounds\n"
     ]
    },
    {
     "name": "stderr",
     "output_type": "stream",
     "text": [
      "[Parallel(n_jobs=-1)]: Using backend ThreadingBackend with 12 concurrent workers.\n",
      "[Parallel(n_jobs=-1)]: Done   8 out of  15 | elapsed:    0.0s remaining:    0.0s\n",
      "[Parallel(n_jobs=-1)]: Done  15 out of  15 | elapsed:    0.0s finished\n"
     ]
    },
    {
     "name": "stdout",
     "output_type": "stream",
     "text": [
      "[200]\ttrain's auc: 0.959333\ttrain's binary_logloss: 0.328823\tvalid's auc: 0.586218\tvalid's binary_logloss: 0.515404\n",
      "Early stopping, best iteration is:\n",
      "[1]\ttrain's auc: 0.750497\ttrain's binary_logloss: 0.682729\tvalid's auc: 0.607977\tvalid's binary_logloss: 0.685025\n",
      "Training until validation scores don't improve for 200 rounds\n"
     ]
    },
    {
     "name": "stderr",
     "output_type": "stream",
     "text": [
      "[Parallel(n_jobs=-1)]: Using backend ThreadingBackend with 12 concurrent workers.\n",
      "[Parallel(n_jobs=-1)]: Done   8 out of  15 | elapsed:    0.0s remaining:    0.0s\n",
      "[Parallel(n_jobs=-1)]: Done  15 out of  15 | elapsed:    0.0s finished\n"
     ]
    },
    {
     "name": "stdout",
     "output_type": "stream",
     "text": [
      "[200]\ttrain's auc: 0.958748\ttrain's binary_logloss: 0.333158\tvalid's auc: 0.576121\tvalid's binary_logloss: 0.518434\n",
      "Early stopping, best iteration is:\n",
      "[8]\ttrain's auc: 0.782743\ttrain's binary_logloss: 0.634662\tvalid's auc: 0.616354\tvalid's binary_logloss: 0.652098\n",
      "Training until validation scores don't improve for 200 rounds\n"
     ]
    },
    {
     "name": "stderr",
     "output_type": "stream",
     "text": [
      "[Parallel(n_jobs=-1)]: Using backend ThreadingBackend with 12 concurrent workers.\n",
      "[Parallel(n_jobs=-1)]: Done   8 out of  15 | elapsed:    0.0s remaining:    0.0s\n",
      "[Parallel(n_jobs=-1)]: Done  15 out of  15 | elapsed:    0.0s finished\n"
     ]
    },
    {
     "name": "stdout",
     "output_type": "stream",
     "text": [
      "[200]\ttrain's auc: 0.956927\ttrain's binary_logloss: 0.336375\tvalid's auc: 0.571455\tvalid's binary_logloss: 0.486615\n",
      "Early stopping, best iteration is:\n",
      "[109]\ttrain's auc: 0.921965\ttrain's binary_logloss: 0.415079\tvalid's auc: 0.580492\tvalid's binary_logloss: 0.520891\n",
      "0.6064734098018769\n",
      "0.7951577163712138\n"
     ]
    }
   ],
   "source": [
    "skf = StratifiedKFold(n_splits=5, shuffle=True, random_state=17)\n",
    "\n",
    "prob_pred = np.zeros(test.shape[0])\n",
    "out_of_fold = np.zeros(train.shape[0])\n",
    "\n",
    "valid_scores = []\n",
    "train_scores = []\n",
    "\n",
    "\n",
    "for train_indices, valid_indices in skf.split(train, train_labels):\n",
    "    X_train, y_train = train[train_indices], train_labels[train_indices]\n",
    "    X_valid, y_valid = train[valid_indices], train_labels[valid_indices]\n",
    "\n",
    "    random_forest = RandomForestClassifier(n_estimators = 15,  random_state = 41,\n",
    "                                           max_depth=4, verbose = 1, n_jobs = -1)\n",
    "    random_forest.fit(X_train, y_train)\n",
    "    \n",
    "    model.fit(X_train, y_train, eval_metric = 'auc',\n",
    "                  eval_set = [(X_valid, y_valid ), (X_train, y_train)],\n",
    "                  eval_names = ['valid', 'train'],\n",
    "                  early_stopping_rounds = 200, verbose = 200)\n",
    "    \n",
    "    best_iteration = model.best_iteration_\n",
    "    \n",
    "    prob_pred += model.predict_proba(test, num_iteration = best_iteration)[:, 1] / k_fold.n_splits\n",
    "    \n",
    "    out_of_fold[valid_indices] = model.predict_proba(X_valid, num_iteration = best_iteration)[:, 1]\n",
    "    \n",
    "    valid_score = model.best_score_['valid']['auc']\n",
    "    train_score = model.best_score_['train']['auc']\n",
    "        \n",
    "    valid_scores.append(valid_score)\n",
    "    train_scores.append(train_score)\n",
    "    \n",
    "\n",
    "rf_result = pd.DataFrame({'Target': prob_pred})\n",
    "\n",
    "print(roc_auc_score(train_labels, out_of_fold))\n",
    "print(np.mean(train_scores))"
   ]
  },
  {
   "cell_type": "code",
   "execution_count": 375,
   "metadata": {},
   "outputs": [],
   "source": [
    "rf_result.to_excel('rf.xlsx')"
   ]
  },
  {
   "cell_type": "markdown",
   "metadata": {},
   "source": [
    "## LGBM"
   ]
  },
  {
   "cell_type": "code",
   "execution_count": 376,
   "metadata": {},
   "outputs": [],
   "source": [
    "train = train_df.drop(columns='Target')\n",
    "train_labels = train_df['Target']\n",
    "test = test_df\n",
    "\n",
    "n_folds = 4\n",
    "k_fold = KFold(n_splits = n_folds,shuffle = True, random_state = 50)\n",
    "\n",
    "feature_names = list(train.columns)\n",
    "\n",
    "scaler = MinMaxScaler(feature_range = (0, 1))\n",
    "scaler.fit(train)\n",
    "train = scaler.transform(train)\n",
    "test = scaler.transform(test)\n",
    "\n",
    "feature_importance_values = np.zeros(len(feature_names))\n",
    "\n",
    "out_of_fold = np.zeros(train.shape[0])\n",
    "prob_pred = np.zeros(test.shape[0])"
   ]
  },
  {
   "cell_type": "code",
   "execution_count": 377,
   "metadata": {},
   "outputs": [
    {
     "name": "stdout",
     "output_type": "stream",
     "text": [
      "Training until validation scores don't improve for 200 rounds\n",
      "[200]\ttrain's auc: 0.958664\ttrain's binary_logloss: 0.335414\tvalid's auc: 0.605202\tvalid's binary_logloss: 0.454917\n",
      "Early stopping, best iteration is:\n",
      "[39]\ttrain's auc: 0.860981\ttrain's binary_logloss: 0.520642\tvalid's auc: 0.62245\tvalid's binary_logloss: 0.558255\n",
      "Training until validation scores don't improve for 200 rounds\n",
      "[200]\ttrain's auc: 0.965833\ttrain's binary_logloss: 0.311255\tvalid's auc: 0.612714\tvalid's binary_logloss: 0.510483\n",
      "Early stopping, best iteration is:\n",
      "[15]\ttrain's auc: 0.82426\ttrain's binary_logloss: 0.589243\tvalid's auc: 0.630739\tvalid's binary_logloss: 0.617598\n",
      "Training until validation scores don't improve for 200 rounds\n",
      "[200]\ttrain's auc: 0.955573\ttrain's binary_logloss: 0.348773\tvalid's auc: 0.625158\tvalid's binary_logloss: 0.495419\n",
      "Early stopping, best iteration is:\n",
      "[9]\ttrain's auc: 0.780809\ttrain's binary_logloss: 0.629792\tvalid's auc: 0.650502\tvalid's binary_logloss: 0.647082\n",
      "Training until validation scores don't improve for 200 rounds\n",
      "[200]\ttrain's auc: 0.961685\ttrain's binary_logloss: 0.320699\tvalid's auc: 0.601332\tvalid's binary_logloss: 0.511308\n",
      "Early stopping, best iteration is:\n",
      "[22]\ttrain's auc: 0.815648\ttrain's binary_logloss: 0.576086\tvalid's auc: 0.652625\tvalid's binary_logloss: 0.612198\n"
     ]
    },
    {
     "data": {
      "image/png": "[encoded data removed]",
      "text/plain": [
       "<Figure size 1224x360 with 1 Axes>"
      ]
     },
     "metadata": {
      "needs_background": "light"
     },
     "output_type": "display_data"
    },
    {
     "data": {
      "image/png": "[encoded data removed]",
      "text/plain": [
       "<Figure size 1224x360 with 1 Axes>"
      ]
     },
     "metadata": {
      "needs_background": "light"
     },
     "output_type": "display_data"
    }
   ],
   "source": [
    "valid_scores = []\n",
    "train_scores = []\n",
    "\n",
    "for train_indices, valid_indices in k_fold.split(train):\n",
    "    X_train, y_train = train[train_indices], train_labels[train_indices]\n",
    "    X_valid, y_valid = train[valid_indices], train_labels[valid_indices]\n",
    "\n",
    "    model = lgb.LGBMClassifier(n_estimators=10000, objective = 'binary', \n",
    "                                   class_weight = 'balanced', learning_rate = 0.05, \n",
    "                                   reg_alpha = 0.1, reg_lambda = 0.1, \n",
    "                                   subsample = 0.8, n_jobs = -1, random_state = 41)\n",
    "    \n",
    "    model.fit(X_train, y_train, eval_metric = 'auc',\n",
    "                  eval_set = [(X_valid, y_valid ), (X_train, y_train)],\n",
    "                  eval_names = ['valid', 'train'],\n",
    "                  early_stopping_rounds = 200, verbose = 200)\n",
    "    \n",
    "    best_iteration = model.best_iteration_\n",
    "    \n",
    "    feature_importance_values += model.feature_importances_ / k_fold.n_splits\n",
    "    \n",
    "    prob_pred += model.predict_proba(test, num_iteration = best_iteration)[:, 1] / k_fold.n_splits\n",
    "    \n",
    "    out_of_fold[valid_indices] = model.predict_proba(X_valid, num_iteration = best_iteration)[:, 1]\n",
    "    \n",
    "    valid_score = model.best_score_['valid']['auc']\n",
    "    train_score = model.best_score_['train']['auc']\n",
    "        \n",
    "    valid_scores.append(valid_score)\n",
    "    train_scores.append(train_score)\n",
    "    \n",
    "lgbm_result = pd.DataFrame({'Target': prob_pred})\n",
    "feature_importances = pd.DataFrame({'feature': feature_names, 'importance': feature_importance_values})\n",
    "\n",
    "valid_auc = roc_auc_score(train_labels, out_of_fold)\n",
    "Show_ROC(train_labels, out_of_fold)\n",
    "\n",
    "valid_scores.append(valid_auc)\n",
    "train_scores.append(np.mean(train_scores))\n",
    "\n",
    "fold_names = list(range(n_folds))\n",
    "fold_names.append('overall')\n",
    "    \n",
    "metrics = pd.DataFrame({'fold': fold_names,\n",
    "                        'train': train_scores,\n",
    "                        'valid': valid_scores}) "
   ]
  },
  {
   "cell_type": "code",
   "execution_count": 333,
   "metadata": {},
   "outputs": [
    {
     "data": {
      "text/html": [
       "<div>\n",
       "<style scoped>\n",
       "    .dataframe tbody tr th:only-of-type {\n",
       "        vertical-align: middle;\n",
       "    }\n",
       "\n",
       "    .dataframe tbody tr th {\n",
       "        vertical-align: top;\n",
       "    }\n",
       "\n",
       "    .dataframe thead th {\n",
       "        text-align: right;\n",
       "    }\n",
       "</style>\n",
       "<table border=\"1\" class=\"dataframe\">\n",
       "  <thead>\n",
       "    <tr style=\"text-align: right;\">\n",
       "      <th></th>\n",
       "      <th>feature</th>\n",
       "      <th>importance</th>\n",
       "    </tr>\n",
       "  </thead>\n",
       "  <tbody>\n",
       "    <tr>\n",
       "      <th>0</th>\n",
       "      <td>Пол_мужской</td>\n",
       "      <td>34.75</td>\n",
       "    </tr>\n",
       "    <tr>\n",
       "      <th>1</th>\n",
       "      <td>Возраст</td>\n",
       "      <td>159.50</td>\n",
       "    </tr>\n",
       "    <tr>\n",
       "      <th>2</th>\n",
       "      <td>Стаж работы</td>\n",
       "      <td>180.75</td>\n",
       "    </tr>\n",
       "    <tr>\n",
       "      <th>3</th>\n",
       "      <td>Количество детей</td>\n",
       "      <td>95.75</td>\n",
       "    </tr>\n",
       "    <tr>\n",
       "      <th>4</th>\n",
       "      <td>Образование_высшее</td>\n",
       "      <td>12.25</td>\n",
       "    </tr>\n",
       "    <tr>\n",
       "      <th>5</th>\n",
       "      <td>Образование_несколько высших</td>\n",
       "      <td>25.50</td>\n",
       "    </tr>\n",
       "    <tr>\n",
       "      <th>6</th>\n",
       "      <td>Образование_средне-специальное</td>\n",
       "      <td>11.75</td>\n",
       "    </tr>\n",
       "    <tr>\n",
       "      <th>7</th>\n",
       "      <td>Образование_среднее</td>\n",
       "      <td>28.50</td>\n",
       "    </tr>\n",
       "    <tr>\n",
       "      <th>8</th>\n",
       "      <td>Семейное положение_женат / замужем</td>\n",
       "      <td>19.00</td>\n",
       "    </tr>\n",
       "    <tr>\n",
       "      <th>9</th>\n",
       "      <td>Семейное положение_не женат / не замужем</td>\n",
       "      <td>18.00</td>\n",
       "    </tr>\n",
       "    <tr>\n",
       "      <th>10</th>\n",
       "      <td>Семейное положение_повторный брак</td>\n",
       "      <td>39.25</td>\n",
       "    </tr>\n",
       "    <tr>\n",
       "      <th>11</th>\n",
       "      <td>Семейное положение_разведен / разведена</td>\n",
       "      <td>12.50</td>\n",
       "    </tr>\n",
       "  </tbody>\n",
       "</table>\n",
       "</div>"
      ],
      "text/plain": [
       "                                     feature  importance\n",
       "0                                Пол_мужской       34.75\n",
       "1                                    Возраст      159.50\n",
       "2                                Стаж работы      180.75\n",
       "3                           Количество детей       95.75\n",
       "4                         Образование_высшее       12.25\n",
       "5               Образование_несколько высших       25.50\n",
       "6             Образование_средне-специальное       11.75\n",
       "7                        Образование_среднее       28.50\n",
       "8         Семейное положение_женат / замужем       19.00\n",
       "9   Семейное положение_не женат / не замужем       18.00\n",
       "10         Семейное положение_повторный брак       39.25\n",
       "11   Семейное положение_разведен / разведена       12.50"
      ]
     },
     "execution_count": 333,
     "metadata": {},
     "output_type": "execute_result"
    }
   ],
   "source": [
    "fi"
   ]
  },
  {
   "cell_type": "code",
   "execution_count": 335,
   "metadata": {},
   "outputs": [
    {
     "data": {
      "text/html": [
       "<div>\n",
       "<style scoped>\n",
       "    .dataframe tbody tr th:only-of-type {\n",
       "        vertical-align: middle;\n",
       "    }\n",
       "\n",
       "    .dataframe tbody tr th {\n",
       "        vertical-align: top;\n",
       "    }\n",
       "\n",
       "    .dataframe thead th {\n",
       "        text-align: right;\n",
       "    }\n",
       "</style>\n",
       "<table border=\"1\" class=\"dataframe\">\n",
       "  <thead>\n",
       "    <tr style=\"text-align: right;\">\n",
       "      <th></th>\n",
       "      <th>fold</th>\n",
       "      <th>train</th>\n",
       "      <th>valid</th>\n",
       "    </tr>\n",
       "  </thead>\n",
       "  <tbody>\n",
       "    <tr>\n",
       "      <th>0</th>\n",
       "      <td>0</td>\n",
       "      <td>0.860981</td>\n",
       "      <td>0.622450</td>\n",
       "    </tr>\n",
       "    <tr>\n",
       "      <th>1</th>\n",
       "      <td>1</td>\n",
       "      <td>0.824260</td>\n",
       "      <td>0.630739</td>\n",
       "    </tr>\n",
       "    <tr>\n",
       "      <th>2</th>\n",
       "      <td>2</td>\n",
       "      <td>0.780809</td>\n",
       "      <td>0.650502</td>\n",
       "    </tr>\n",
       "    <tr>\n",
       "      <th>3</th>\n",
       "      <td>3</td>\n",
       "      <td>0.815648</td>\n",
       "      <td>0.652625</td>\n",
       "    </tr>\n",
       "    <tr>\n",
       "      <th>4</th>\n",
       "      <td>overall</td>\n",
       "      <td>0.820425</td>\n",
       "      <td>0.633455</td>\n",
       "    </tr>\n",
       "  </tbody>\n",
       "</table>\n",
       "</div>"
      ],
      "text/plain": [
       "      fold     train     valid\n",
       "0        0  0.860981  0.622450\n",
       "1        1  0.824260  0.630739\n",
       "2        2  0.780809  0.650502\n",
       "3        3  0.815648  0.652625\n",
       "4  overall  0.820425  0.633455"
      ]
     },
     "execution_count": 335,
     "metadata": {},
     "output_type": "execute_result"
    }
   ],
   "source": [
    "metrics"
   ]
  },
  {
   "cell_type": "code",
   "execution_count": 378,
   "metadata": {},
   "outputs": [],
   "source": [
    "lgbm_result.to_excel('LGBM.xlsx')"
   ]
  },
  {
   "cell_type": "markdown",
   "metadata": {},
   "source": [
    "## Выводы"
   ]
  },
  {
   "cell_type": "markdown",
   "metadata": {},
   "source": [
    "Качественной модели, способной выделить вероятность дефолта по представленным данным - найдено не было. Модели (за исключением логистической регрессии на полиномиальных признаках с балансировкой классов) показали близкие друг другу результаты по метрике <b>AUC</b>, хотя поведение <b>TPR</b> и <b>FPR</b> имело отличия - где-то чуть лучше выделяется дефолт с большими количествами ложных выявлений, где-то наоборот. Однако значительных скачков в данных метриков найдено не было. \n",
    "\n",
    "Для всех 4 используемых методов классификации получены значения для тестовой выборки, представленные в отдельных файлах."
   ]
  }
 ],
 "metadata": {
  "kernelspec": {
   "display_name": "Python 3",
   "language": "python",
   "name": "python3"
  },
  "language_info": {
   "codemirror_mode": {
    "name": "ipython",
    "version": 3
   },
   "file_extension": ".py",
   "mimetype": "text/x-python",
   "name": "python",
   "nbconvert_exporter": "python",
   "pygments_lexer": "ipython3",
   "version": "3.7.6"
  }
 },
 "nbformat": 4,
 "nbformat_minor": 4
}
